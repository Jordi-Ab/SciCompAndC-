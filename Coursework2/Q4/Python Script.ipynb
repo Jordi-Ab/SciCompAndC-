{
 "cells": [
  {
   "cell_type": "code",
   "execution_count": 129,
   "metadata": {
    "collapsed": true
   },
   "outputs": [],
   "source": [
    "import numpy as np\n",
    "import numpy.linalg as la\n",
    "import scipy.linalg as spla\n",
    "import matplotlib.pyplot as pt\n",
    "import numpy.polynomial.chebyshev as cheby\n",
    "% matplotlib inline"
   ]
  },
  {
   "cell_type": "markdown",
   "metadata": {},
   "source": [
    "I will try to get a solution to the equation:\n",
    "\n",
    "$ \\ddot{u}(x) = 1; \\\\\n",
    "\\text with \\space Boundary \\space Conditions: \\space u(-1) = 0, \\space u(1) = 0 $\n",
    "\n",
    "Its true solution is given by:\n",
    "$u(x) = \\frac{1}{2}x^2 - \\frac{1}{2}$\n",
    "\n",
    "Using Chebyshev Spectral Differentiation matrices."
   ]
  },
  {
   "cell_type": "code",
   "execution_count": 138,
   "metadata": {
    "collapsed": true
   },
   "outputs": [],
   "source": [
    "n= 20"
   ]
  },
  {
   "cell_type": "code",
   "execution_count": 139,
   "metadata": {
    "collapsed": true
   },
   "outputs": [],
   "source": [
    "def GCLmesh(n):\n",
    "    mesh = np.zeros(n+1)\n",
    "    for j in range(0,n+1):\n",
    "        xj = np.cos(j*np.pi/n)\n",
    "        mesh[j] = xj\n",
    "    return mesh"
   ]
  },
  {
   "cell_type": "code",
   "execution_count": 140,
   "metadata": {
    "collapsed": true
   },
   "outputs": [],
   "source": [
    "def chebyDiffMatrix(n, mesh):\n",
    "\td_mat = np.zeros((n+1,n+1))\n",
    "\tfor i in range(0,n+1):\n",
    "\t\tfor j in range(0,n+1):\n",
    "\t\t\tif(i==0 and j==0):\n",
    "\t\t\t\tentry = (2*(n**2) + 1)/6.0\n",
    "\t\t\telif(i==n and j==n):\n",
    "\t\t\t\tentry = - (2*(n**2) + 1)/6.0\n",
    "\t\t\telif (i==j):\n",
    "\t\t\t\tentry = -mesh[j]/(2.0*( 1-(mesh[j]**2) ) )\n",
    "\t\t\telse:\n",
    "\t\t\t\tci = 2.0 if (i==0 or i==n) else 1.0\n",
    "\t\t\t\tcj = 2.0 if (j==0 or j==n) else 1.0\n",
    "\t\t\t\tentry = (ci/cj) * ( ((-1)**(i+j)) / (mesh[i] - mesh[j]) )\n",
    "\t\t\td_mat[i,j] = entry\n",
    "\treturn d_mat"
   ]
  },
  {
   "cell_type": "code",
   "execution_count": 141,
   "metadata": {
    "collapsed": false
   },
   "outputs": [
    {
     "name": "stdout",
     "output_type": "stream",
     "text": [
      "[  1.00000000e+00   9.87688341e-01   9.51056516e-01   8.91006524e-01\n",
      "   8.09016994e-01   7.07106781e-01   5.87785252e-01   4.53990500e-01\n",
      "   3.09016994e-01   1.56434465e-01   6.12323400e-17  -1.56434465e-01\n",
      "  -3.09016994e-01  -4.53990500e-01  -5.87785252e-01  -7.07106781e-01\n",
      "  -8.09016994e-01  -8.91006524e-01  -9.51056516e-01  -9.87688341e-01\n",
      "  -1.00000000e+00]\n"
     ]
    }
   ],
   "source": [
    "mesh = GCLmesh(n)\n",
    "print(mesh)"
   ]
  },
  {
   "cell_type": "code",
   "execution_count": 142,
   "metadata": {
    "collapsed": false
   },
   "outputs": [
    {
     "name": "stdout",
     "output_type": "stream",
     "text": [
      "[[  1.33500000e+02  -1.62450000e+02   4.08600000e+01  -1.83500000e+01\n",
      "    1.04700000e+01  -6.83000000e+00   4.85000000e+00  -3.66000000e+00\n",
      "    2.89000000e+00  -2.37000000e+00   2.00000000e+00  -1.73000000e+00\n",
      "    1.53000000e+00  -1.38000000e+00   1.26000000e+00  -1.17000000e+00\n",
      "    1.11000000e+00  -1.06000000e+00   1.03000000e+00  -1.01000000e+00\n",
      "    5.00000000e-01]\n",
      " [  4.06100000e+01  -2.01800000e+01  -2.73000000e+01   1.03400000e+01\n",
      "   -5.60000000e+00   3.56000000e+00  -2.50000000e+00   1.87000000e+00\n",
      "   -1.47000000e+00   1.20000000e+00  -1.01000000e+00   8.70000000e-01\n",
      "   -7.70000000e-01   6.90000000e-01  -6.30000000e-01   5.90000000e-01\n",
      "   -5.60000000e-01   5.30000000e-01  -5.20000000e-01   5.10000000e-01\n",
      "   -2.50000000e-01]\n",
      " [ -1.02200000e+01   2.73000000e+01  -4.98000000e+00  -1.66500000e+01\n",
      "    7.04000000e+00  -4.10000000e+00   2.75000000e+00  -2.01000000e+00\n",
      "    1.56000000e+00  -1.26000000e+00   1.05000000e+00  -9.00000000e-01\n",
      "    7.90000000e-01  -7.10000000e-01   6.50000000e-01  -6.00000000e-01\n",
      "    5.70000000e-01  -5.40000000e-01   5.30000000e-01  -5.20000000e-01\n",
      "    2.60000000e-01]\n",
      " [  4.59000000e+00  -1.03400000e+01   1.66500000e+01  -2.16000000e+00\n",
      "   -1.22000000e+01   5.44000000e+00  -3.30000000e+00   2.29000000e+00\n",
      "   -1.72000000e+00   1.36000000e+00  -1.12000000e+00   9.50000000e-01\n",
      "   -8.30000000e-01   7.40000000e-01  -6.80000000e-01   6.30000000e-01\n",
      "   -5.90000000e-01   5.60000000e-01  -5.40000000e-01   5.30000000e-01\n",
      "   -2.60000000e-01]\n",
      " [ -2.62000000e+00   5.60000000e+00  -7.04000000e+00   1.22000000e+01\n",
      "   -1.17000000e+00  -9.81000000e+00   4.52000000e+00  -2.82000000e+00\n",
      "    2.00000000e+00  -1.53000000e+00   1.24000000e+00  -1.04000000e+00\n",
      "    8.90000000e-01  -7.90000000e-01   7.20000000e-01  -6.60000000e-01\n",
      "    6.20000000e-01  -5.90000000e-01   5.70000000e-01  -5.60000000e-01\n",
      "    2.80000000e-01]\n",
      " [  1.71000000e+00  -3.56000000e+00   4.10000000e+00  -5.44000000e+00\n",
      "    9.81000000e+00  -7.10000000e-01  -8.38000000e+00   3.95000000e+00\n",
      "   -2.51000000e+00   1.82000000e+00  -1.41000000e+00   1.16000000e+00\n",
      "   -9.80000000e-01   8.60000000e-01  -7.70000000e-01   7.10000000e-01\n",
      "   -6.60000000e-01   6.30000000e-01  -6.00000000e-01   5.90000000e-01\n",
      "   -2.90000000e-01]\n",
      " [ -1.21000000e+00   2.50000000e+00  -2.75000000e+00   3.30000000e+00\n",
      "   -4.52000000e+00   8.38000000e+00  -4.50000000e-01  -7.47000000e+00\n",
      "    3.59000000e+00  -2.32000000e+00   1.70000000e+00  -1.34000000e+00\n",
      "    1.12000000e+00  -9.60000000e-01   8.50000000e-01  -7.70000000e-01\n",
      "    7.20000000e-01  -6.80000000e-01   6.50000000e-01  -6.30000000e-01\n",
      "    3.10000000e-01]\n",
      " [  9.20000000e-01  -1.87000000e+00   2.01000000e+00  -2.29000000e+00\n",
      "    2.82000000e+00  -3.95000000e+00   7.47000000e+00  -2.90000000e-01\n",
      "   -6.90000000e+00   3.36000000e+00  -2.20000000e+00   1.64000000e+00\n",
      "   -1.31000000e+00   1.10000000e+00  -9.60000000e-01   8.60000000e-01\n",
      "   -7.90000000e-01   7.40000000e-01  -7.10000000e-01   6.90000000e-01\n",
      "   -3.40000000e-01]\n",
      " [ -7.20000000e-01   1.47000000e+00  -1.56000000e+00   1.72000000e+00\n",
      "   -2.00000000e+00   2.51000000e+00  -3.59000000e+00   6.90000000e+00\n",
      "   -1.70000000e-01  -6.55000000e+00   3.24000000e+00  -2.15000000e+00\n",
      "    1.62000000e+00  -1.31000000e+00   1.12000000e+00  -9.80000000e-01\n",
      "    8.90000000e-01  -8.30000000e-01   7.90000000e-01  -7.70000000e-01\n",
      "    3.80000000e-01]\n",
      " [  5.90000000e-01  -1.20000000e+00   1.26000000e+00  -1.36000000e+00\n",
      "    1.53000000e+00  -1.82000000e+00   2.32000000e+00  -3.36000000e+00\n",
      "    6.55000000e+00  -8.00000000e-02  -6.39000000e+00   3.20000000e+00\n",
      "   -2.15000000e+00   1.64000000e+00  -1.34000000e+00   1.16000000e+00\n",
      "   -1.04000000e+00   9.50000000e-01  -9.00000000e-01   8.70000000e-01\n",
      "   -4.30000000e-01]\n",
      " [ -5.00000000e-01   1.01000000e+00  -1.05000000e+00   1.12000000e+00\n",
      "   -1.24000000e+00   1.41000000e+00  -1.70000000e+00   2.20000000e+00\n",
      "   -3.24000000e+00   6.39000000e+00  -0.00000000e+00  -6.39000000e+00\n",
      "    3.24000000e+00  -2.20000000e+00   1.70000000e+00  -1.41000000e+00\n",
      "    1.24000000e+00  -1.12000000e+00   1.05000000e+00  -1.01000000e+00\n",
      "    5.00000000e-01]\n",
      " [  4.30000000e-01  -8.70000000e-01   9.00000000e-01  -9.50000000e-01\n",
      "    1.04000000e+00  -1.16000000e+00   1.34000000e+00  -1.64000000e+00\n",
      "    2.15000000e+00  -3.20000000e+00   6.39000000e+00   8.00000000e-02\n",
      "   -6.55000000e+00   3.36000000e+00  -2.32000000e+00   1.82000000e+00\n",
      "   -1.53000000e+00   1.36000000e+00  -1.26000000e+00   1.20000000e+00\n",
      "   -5.90000000e-01]\n",
      " [ -3.80000000e-01   7.70000000e-01  -7.90000000e-01   8.30000000e-01\n",
      "   -8.90000000e-01   9.80000000e-01  -1.12000000e+00   1.31000000e+00\n",
      "   -1.62000000e+00   2.15000000e+00  -3.24000000e+00   6.55000000e+00\n",
      "    1.70000000e-01  -6.90000000e+00   3.59000000e+00  -2.51000000e+00\n",
      "    2.00000000e+00  -1.72000000e+00   1.56000000e+00  -1.47000000e+00\n",
      "    7.20000000e-01]\n",
      " [  3.40000000e-01  -6.90000000e-01   7.10000000e-01  -7.40000000e-01\n",
      "    7.90000000e-01  -8.60000000e-01   9.60000000e-01  -1.10000000e+00\n",
      "    1.31000000e+00  -1.64000000e+00   2.20000000e+00  -3.36000000e+00\n",
      "    6.90000000e+00   2.90000000e-01  -7.47000000e+00   3.95000000e+00\n",
      "   -2.82000000e+00   2.29000000e+00  -2.01000000e+00   1.87000000e+00\n",
      "   -9.20000000e-01]\n",
      " [ -3.10000000e-01   6.30000000e-01  -6.50000000e-01   6.80000000e-01\n",
      "   -7.20000000e-01   7.70000000e-01  -8.50000000e-01   9.60000000e-01\n",
      "   -1.12000000e+00   1.34000000e+00  -1.70000000e+00   2.32000000e+00\n",
      "   -3.59000000e+00   7.47000000e+00   4.50000000e-01  -8.38000000e+00\n",
      "    4.52000000e+00  -3.30000000e+00   2.75000000e+00  -2.50000000e+00\n",
      "    1.21000000e+00]\n",
      " [  2.90000000e-01  -5.90000000e-01   6.00000000e-01  -6.30000000e-01\n",
      "    6.60000000e-01  -7.10000000e-01   7.70000000e-01  -8.60000000e-01\n",
      "    9.80000000e-01  -1.16000000e+00   1.41000000e+00  -1.82000000e+00\n",
      "    2.51000000e+00  -3.95000000e+00   8.38000000e+00   7.10000000e-01\n",
      "   -9.81000000e+00   5.44000000e+00  -4.10000000e+00   3.56000000e+00\n",
      "   -1.71000000e+00]\n",
      " [ -2.80000000e-01   5.60000000e-01  -5.70000000e-01   5.90000000e-01\n",
      "   -6.20000000e-01   6.60000000e-01  -7.20000000e-01   7.90000000e-01\n",
      "   -8.90000000e-01   1.04000000e+00  -1.24000000e+00   1.53000000e+00\n",
      "   -2.00000000e+00   2.82000000e+00  -4.52000000e+00   9.81000000e+00\n",
      "    1.17000000e+00  -1.22000000e+01   7.04000000e+00  -5.60000000e+00\n",
      "    2.62000000e+00]\n",
      " [  2.60000000e-01  -5.30000000e-01   5.40000000e-01  -5.60000000e-01\n",
      "    5.90000000e-01  -6.30000000e-01   6.80000000e-01  -7.40000000e-01\n",
      "    8.30000000e-01  -9.50000000e-01   1.12000000e+00  -1.36000000e+00\n",
      "    1.72000000e+00  -2.29000000e+00   3.30000000e+00  -5.44000000e+00\n",
      "    1.22000000e+01   2.16000000e+00  -1.66500000e+01   1.03400000e+01\n",
      "   -4.59000000e+00]\n",
      " [ -2.60000000e-01   5.20000000e-01  -5.30000000e-01   5.40000000e-01\n",
      "   -5.70000000e-01   6.00000000e-01  -6.50000000e-01   7.10000000e-01\n",
      "   -7.90000000e-01   9.00000000e-01  -1.05000000e+00   1.26000000e+00\n",
      "   -1.56000000e+00   2.01000000e+00  -2.75000000e+00   4.10000000e+00\n",
      "   -7.04000000e+00   1.66500000e+01   4.98000000e+00  -2.73000000e+01\n",
      "    1.02200000e+01]\n",
      " [  2.50000000e-01  -5.10000000e-01   5.20000000e-01  -5.30000000e-01\n",
      "    5.60000000e-01  -5.90000000e-01   6.30000000e-01  -6.90000000e-01\n",
      "    7.70000000e-01  -8.70000000e-01   1.01000000e+00  -1.20000000e+00\n",
      "    1.47000000e+00  -1.87000000e+00   2.50000000e+00  -3.56000000e+00\n",
      "    5.60000000e+00  -1.03400000e+01   2.73000000e+01   2.01800000e+01\n",
      "   -4.06100000e+01]\n",
      " [ -5.00000000e-01   1.01000000e+00  -1.03000000e+00   1.06000000e+00\n",
      "   -1.11000000e+00   1.17000000e+00  -1.26000000e+00   1.38000000e+00\n",
      "   -1.53000000e+00   1.73000000e+00  -2.00000000e+00   2.37000000e+00\n",
      "   -2.89000000e+00   3.66000000e+00  -4.85000000e+00   6.83000000e+00\n",
      "   -1.04700000e+01   1.83500000e+01  -4.08600000e+01   1.62450000e+02\n",
      "   -1.33500000e+02]]\n"
     ]
    }
   ],
   "source": [
    "D = chebyDiffMatrix(n, mesh)\n",
    "print(D.round(2))"
   ]
  },
  {
   "cell_type": "code",
   "execution_count": 143,
   "metadata": {
    "collapsed": false
   },
   "outputs": [],
   "source": [
    "K = D.dot(D)\n",
    "if n < 10: print(K.round(2))"
   ]
  },
  {
   "cell_type": "code",
   "execution_count": 145,
   "metadata": {
    "collapsed": false
   },
   "outputs": [],
   "source": [
    "# 1 Modification of matrix for imposing BCs\n",
    "K[0,:] = 0\n",
    "K[-1,:] = 0\n",
    "K[0,0] = 1\n",
    "K[-1,-1] = 1\n",
    "#print(K)\n",
    "rhs = np.ones(n+1)\n",
    "rhs[0] = 0\n",
    "rhs[-1] = 0"
   ]
  },
  {
   "cell_type": "code",
   "execution_count": 131,
   "metadata": {
    "collapsed": false
   },
   "outputs": [
    {
     "name": "stdout",
     "output_type": "stream",
     "text": [
      "P:\n",
      "[[ 0.  1.  0.  0.]\n",
      " [ 1.  0.  0.  0.]\n",
      " [ 0.  0.  1.  0.]\n",
      " [ 0.  0.  0.  1.]]\n",
      "L:\n",
      "[[ 1.   0.   0.   0. ]\n",
      " [ 0.3  1.   0.   0. ]\n",
      " [-0.2  1.   1.   0. ]\n",
      " [ 0.   0.  -0.   1. ]]\n",
      "U:\n",
      "[[ 3.33333333 -5.33333333  2.66666667 -0.66666667]\n",
      " [ 0.          1.6        -0.8         0.2       ]\n",
      " [ 0.          0.         -4.          3.        ]\n",
      " [ 0.          0.          0.          1.        ]]\n"
     ]
    }
   ],
   "source": [
    "P,L,U = spla.lu(K)\n",
    "print('P:')\n",
    "print(P)\n",
    "print('L:')\n",
    "print(L)\n",
    "print('U:')\n",
    "print(U)"
   ]
  },
  {
   "cell_type": "code",
   "execution_count": 154,
   "metadata": {
    "collapsed": false
   },
   "outputs": [],
   "source": [
    "# 2 Modification (Solving a sub system.)\n",
    "K = K[1:-1, 1:-1]\n",
    "if n < 10: print(K)"
   ]
  },
  {
   "cell_type": "code",
   "execution_count": 155,
   "metadata": {
    "collapsed": true
   },
   "outputs": [],
   "source": [
    "# Sub vector of right hand sides.\n",
    "rhs = np.ones(n-1)"
   ]
  },
  {
   "cell_type": "code",
   "execution_count": 146,
   "metadata": {
    "collapsed": false
   },
   "outputs": [
    {
     "ename": "ValueError",
     "evalue": "could not broadcast input array from shape (21) into shape (19)",
     "output_type": "error",
     "traceback": [
      "\u001b[0;31m----------------------------------------------------------------------\u001b[0m",
      "\u001b[0;31mValueError\u001b[0m                           Traceback (most recent call last)",
      "\u001b[0;32m<ipython-input-146-fe08db034b8d>\u001b[0m in \u001b[0;36m<module>\u001b[0;34m()\u001b[0m\n\u001b[1;32m      1\u001b[0m \u001b[0mnum_sol\u001b[0m \u001b[0;34m=\u001b[0m \u001b[0mnp\u001b[0m\u001b[0;34m.\u001b[0m\u001b[0mzeros\u001b[0m\u001b[0;34m(\u001b[0m\u001b[0mn\u001b[0m\u001b[0;34m+\u001b[0m\u001b[0;36m1\u001b[0m\u001b[0;34m)\u001b[0m\u001b[0;34m\u001b[0m\u001b[0m\n\u001b[1;32m      2\u001b[0m \u001b[0mnum_sol\u001b[0m\u001b[0;34m[\u001b[0m\u001b[0;36m0\u001b[0m\u001b[0;34m]\u001b[0m \u001b[0;34m=\u001b[0m \u001b[0;36m0\u001b[0m \u001b[0;31m# Set first element of the vector to the BC1\u001b[0m\u001b[0;34m\u001b[0m\u001b[0m\n\u001b[0;32m----> 3\u001b[0;31m \u001b[0mnum_sol\u001b[0m\u001b[0;34m[\u001b[0m\u001b[0;36m1\u001b[0m\u001b[0;34m:\u001b[0m\u001b[0;34m-\u001b[0m\u001b[0;36m1\u001b[0m\u001b[0;34m]\u001b[0m \u001b[0;34m=\u001b[0m \u001b[0mla\u001b[0m\u001b[0;34m.\u001b[0m\u001b[0msolve\u001b[0m\u001b[0;34m(\u001b[0m\u001b[0mK\u001b[0m\u001b[0;34m,\u001b[0m \u001b[0mrhs\u001b[0m\u001b[0;34m)\u001b[0m \u001b[0;31m# the rest pf the elements come from solving the sub-system.\u001b[0m\u001b[0;34m\u001b[0m\u001b[0m\n\u001b[0m\u001b[1;32m      4\u001b[0m \u001b[0mnum_sol\u001b[0m\u001b[0;34m[\u001b[0m\u001b[0;34m-\u001b[0m\u001b[0;36m1\u001b[0m\u001b[0;34m]\u001b[0m \u001b[0;34m=\u001b[0m \u001b[0;36m0\u001b[0m \u001b[0;31m# Set last element of the vector to the BC2\u001b[0m\u001b[0;34m\u001b[0m\u001b[0m\n",
      "\u001b[0;31mValueError\u001b[0m: could not broadcast input array from shape (21) into shape (19)"
     ]
    }
   ],
   "source": [
    "num_sol = np.zeros(n+1)\n",
    "num_sol[0] = 0 # Set first element of the vector to the BC1\n",
    "num_sol[1:-1] = la.solve(K, rhs) # the rest pf the elements come from solving the sub-system.\n",
    "num_sol[-1] = 0 # Set last element of the vector to the BC2"
   ]
  },
  {
   "cell_type": "code",
   "execution_count": 157,
   "metadata": {
    "collapsed": false
   },
   "outputs": [],
   "source": [
    "def true_sol(x):\n",
    "    return(.5*(x**2) - .5)\n",
    "\n",
    "xs = np.linspace(-1,1,100)"
   ]
  },
  {
   "cell_type": "code",
   "execution_count": 158,
   "metadata": {
    "collapsed": false
   },
   "outputs": [
    {
     "data": {
      "text/plain": [
       "<matplotlib.legend.Legend at 0x10ff9e710>"
      ]
     },
     "execution_count": 158,
     "metadata": {},
     "output_type": "execute_result"
    },
    {
     "data": {
      "image/png": "[encoded data removed]",
      "text/plain": [
       "<matplotlib.figure.Figure at 0x10f547630>"
      ]
     },
     "metadata": {},
     "output_type": "display_data"
    }
   ],
   "source": [
    "pt.plot(mesh, num_sol, 'ro', label = 'Num Sol')\n",
    "pt.plot(mesh, true_sol(mesh), 'g-', label = 'True Sol')\n",
    "pt.legend()"
   ]
  },
  {
   "cell_type": "markdown",
   "metadata": {},
   "source": [
    "Now that we have a method for computing a second order BVP with Spectral Diff matrices,\n",
    "we want to solve a more general problem using fixed point iteration over this method.\n",
    "\n",
    "The problem is as follows:"
   ]
  },
  {
   "cell_type": "markdown",
   "metadata": {},
   "source": [
    "$ \\ddot{u}(x) = e^{u(x)}; \\\\\n",
    "\\text with \\space Boundary \\space Conditions: \\space u(-1) = 0, \\space u(1) = 0 $"
   ]
  },
  {
   "cell_type": "code",
   "execution_count": 147,
   "metadata": {
    "collapsed": true
   },
   "outputs": [],
   "source": [
    "n = 21"
   ]
  },
  {
   "cell_type": "code",
   "execution_count": 148,
   "metadata": {
    "collapsed": true
   },
   "outputs": [],
   "source": [
    "def f(x):\n",
    "    return np.exp(x)"
   ]
  },
  {
   "cell_type": "code",
   "execution_count": 149,
   "metadata": {
    "collapsed": false
   },
   "outputs": [],
   "source": [
    "mesh = GCLmesh(n)\n",
    "D = chebyDiffMatrix(n, mesh)\n",
    "K = D.dot(D)\n",
    "if n < 10: print(K)"
   ]
  },
  {
   "cell_type": "code",
   "execution_count": 150,
   "metadata": {
    "collapsed": false
   },
   "outputs": [],
   "source": [
    "# Select interior points matrix\n",
    "K = K[1:-1, 1:-1]\n",
    "if n < 10: print(K)"
   ]
  },
  {
   "cell_type": "code",
   "execution_count": 151,
   "metadata": {
    "collapsed": false
   },
   "outputs": [
    {
     "name": "stdout",
     "output_type": "stream",
     "text": [
      "[ 0.  0.  0.  0.  0.  0.  0.  0.  0.  0.  0.  0.  0.  0.  0.  0.  0.  0.\n",
      "  0.]\n"
     ]
    }
   ],
   "source": [
    "u = np.zeros(n+1)\n",
    "if n < 10: print(u)\n",
    "uk = u[1:-1]"
   ]
  },
  {
   "cell_type": "code",
   "execution_count": 152,
   "metadata": {
    "collapsed": false
   },
   "outputs": [],
   "source": [
    "while(True):\n",
    "    rhs = f(uk)\n",
    "\n",
    "    new_u = la.solve(K,rhs)\n",
    "    #print ('new_u:')\n",
    "    #print(new_u)\n",
    "    #print ('difference with previous:')\n",
    "    #print((new_u - uk))\n",
    "    if(la.norm(new_u - uk) <= 1e-10):\n",
    "        u[1:-1] = new_u\n",
    "        break\n",
    "        #print('Found a solution')\n",
    "        #print(u)\n",
    "    else:\n",
    "        uk = new_u"
   ]
  },
  {
   "cell_type": "code",
   "execution_count": 153,
   "metadata": {
    "collapsed": false
   },
   "outputs": [
    {
     "data": {
      "text/plain": [
       "<matplotlib.legend.Legend at 0x10f4b46d8>"
      ]
     },
     "execution_count": 153,
     "metadata": {},
     "output_type": "execute_result"
    },
    {
     "data": {
      "image/png": "[encoded data removed]",
      "text/plain": [
       "<matplotlib.figure.Figure at 0x10f4b4710>"
      ]
     },
     "metadata": {},
     "output_type": "display_data"
    }
   ],
   "source": [
    "pt.plot(mesh, u, 'ro', label = 'Num Sol')\n",
    "pt.legend()"
   ]
  },
  {
   "cell_type": "code",
   "execution_count": 154,
   "metadata": {
    "collapsed": false
   },
   "outputs": [
    {
     "name": "stdout",
     "output_type": "stream",
     "text": [
      "[ 0.         -0.00958611 -0.03722595 -0.07975387 -0.13246647 -0.18980412\n",
      " -0.24604143 -0.29587053 -0.33482862 -0.35957586 -0.36805602 -0.35957586\n",
      " -0.33482862 -0.29587053 -0.24604143 -0.18980412 -0.13246647 -0.07975387\n",
      " -0.03722595 -0.00958611  0.        ]\n"
     ]
    }
   ],
   "source": [
    "print(u)"
   ]
  },
  {
   "cell_type": "code",
   "execution_count": 60,
   "metadata": {
    "collapsed": true
   },
   "outputs": [],
   "source": [
    "u1 = u.copy()"
   ]
  },
  {
   "cell_type": "code",
   "execution_count": 155,
   "metadata": {
    "collapsed": true
   },
   "outputs": [],
   "source": []
  },
  {
   "cell_type": "code",
   "execution_count": 156,
   "metadata": {
    "collapsed": false
   },
   "outputs": [
    {
     "ename": "ValueError",
     "evalue": "x and y must have same first dimension",
     "output_type": "error",
     "traceback": [
      "\u001b[0;31m----------------------------------------------------------------------\u001b[0m",
      "\u001b[0;31mValueError\u001b[0m                           Traceback (most recent call last)",
      "\u001b[0;32m<ipython-input-156-d94cb6ac2d20>\u001b[0m in \u001b[0;36m<module>\u001b[0;34m()\u001b[0m\n\u001b[1;32m      1\u001b[0m \u001b[0mpt\u001b[0m\u001b[0;34m.\u001b[0m\u001b[0mplot\u001b[0m\u001b[0;34m(\u001b[0m\u001b[0mmesh\u001b[0m\u001b[0;34m,\u001b[0m \u001b[0mu\u001b[0m\u001b[0;34m,\u001b[0m \u001b[0;34m'ro'\u001b[0m\u001b[0;34m,\u001b[0m \u001b[0mlabel\u001b[0m \u001b[0;34m=\u001b[0m \u001b[0;34m'Num Sol'\u001b[0m\u001b[0;34m)\u001b[0m\u001b[0;34m\u001b[0m\u001b[0m\n\u001b[0;32m----> 2\u001b[0;31m \u001b[0mpt\u001b[0m\u001b[0;34m.\u001b[0m\u001b[0mplot\u001b[0m\u001b[0;34m(\u001b[0m\u001b[0mmesh\u001b[0m\u001b[0;34m,\u001b[0m \u001b[0mcpp_us\u001b[0m\u001b[0;34m,\u001b[0m \u001b[0;34m'ro'\u001b[0m\u001b[0;34m,\u001b[0m \u001b[0mlabel\u001b[0m \u001b[0;34m=\u001b[0m \u001b[0;34m'Num Sol'\u001b[0m\u001b[0;34m)\u001b[0m\u001b[0;34m\u001b[0m\u001b[0m\n\u001b[0m\u001b[1;32m      3\u001b[0m \u001b[0;34m\u001b[0m\u001b[0m\n\u001b[1;32m      4\u001b[0m \u001b[0mpt\u001b[0m\u001b[0;34m.\u001b[0m\u001b[0mlegend\u001b[0m\u001b[0;34m(\u001b[0m\u001b[0;34m)\u001b[0m\u001b[0;34m\u001b[0m\u001b[0m\n",
      "\u001b[0;32m/Users/user/anaconda/lib/python3.5/site-packages/matplotlib/pyplot.py\u001b[0m in \u001b[0;36mplot\u001b[0;34m(*args, **kwargs)\u001b[0m\n\u001b[1;32m   3152\u001b[0m         \u001b[0max\u001b[0m\u001b[0;34m.\u001b[0m\u001b[0mhold\u001b[0m\u001b[0;34m(\u001b[0m\u001b[0mhold\u001b[0m\u001b[0;34m)\u001b[0m\u001b[0;34m\u001b[0m\u001b[0m\n\u001b[1;32m   3153\u001b[0m     \u001b[0;32mtry\u001b[0m\u001b[0;34m:\u001b[0m\u001b[0;34m\u001b[0m\u001b[0m\n\u001b[0;32m-> 3154\u001b[0;31m         \u001b[0mret\u001b[0m \u001b[0;34m=\u001b[0m \u001b[0max\u001b[0m\u001b[0;34m.\u001b[0m\u001b[0mplot\u001b[0m\u001b[0;34m(\u001b[0m\u001b[0;34m*\u001b[0m\u001b[0margs\u001b[0m\u001b[0;34m,\u001b[0m \u001b[0;34m**\u001b[0m\u001b[0mkwargs\u001b[0m\u001b[0;34m)\u001b[0m\u001b[0;34m\u001b[0m\u001b[0m\n\u001b[0m\u001b[1;32m   3155\u001b[0m     \u001b[0;32mfinally\u001b[0m\u001b[0;34m:\u001b[0m\u001b[0;34m\u001b[0m\u001b[0m\n\u001b[1;32m   3156\u001b[0m         \u001b[0max\u001b[0m\u001b[0;34m.\u001b[0m\u001b[0mhold\u001b[0m\u001b[0;34m(\u001b[0m\u001b[0mwashold\u001b[0m\u001b[0;34m)\u001b[0m\u001b[0;34m\u001b[0m\u001b[0m\n",
      "\u001b[0;32m/Users/user/anaconda/lib/python3.5/site-packages/matplotlib/__init__.py\u001b[0m in \u001b[0;36minner\u001b[0;34m(ax, *args, **kwargs)\u001b[0m\n\u001b[1;32m   1810\u001b[0m                     warnings.warn(msg % (label_namer, func.__name__),\n\u001b[1;32m   1811\u001b[0m                                   RuntimeWarning, stacklevel=2)\n\u001b[0;32m-> 1812\u001b[0;31m             \u001b[0;32mreturn\u001b[0m \u001b[0mfunc\u001b[0m\u001b[0;34m(\u001b[0m\u001b[0max\u001b[0m\u001b[0;34m,\u001b[0m \u001b[0;34m*\u001b[0m\u001b[0margs\u001b[0m\u001b[0;34m,\u001b[0m \u001b[0;34m**\u001b[0m\u001b[0mkwargs\u001b[0m\u001b[0;34m)\u001b[0m\u001b[0;34m\u001b[0m\u001b[0m\n\u001b[0m\u001b[1;32m   1813\u001b[0m         \u001b[0mpre_doc\u001b[0m \u001b[0;34m=\u001b[0m \u001b[0minner\u001b[0m\u001b[0;34m.\u001b[0m\u001b[0m__doc__\u001b[0m\u001b[0;34m\u001b[0m\u001b[0m\n\u001b[1;32m   1814\u001b[0m         \u001b[0;32mif\u001b[0m \u001b[0mpre_doc\u001b[0m \u001b[0;32mis\u001b[0m \u001b[0;32mNone\u001b[0m\u001b[0;34m:\u001b[0m\u001b[0;34m\u001b[0m\u001b[0m\n",
      "\u001b[0;32m/Users/user/anaconda/lib/python3.5/site-packages/matplotlib/axes/_axes.py\u001b[0m in \u001b[0;36mplot\u001b[0;34m(self, *args, **kwargs)\u001b[0m\n\u001b[1;32m   1422\u001b[0m             \u001b[0mkwargs\u001b[0m\u001b[0;34m[\u001b[0m\u001b[0;34m'color'\u001b[0m\u001b[0;34m]\u001b[0m \u001b[0;34m=\u001b[0m \u001b[0mc\u001b[0m\u001b[0;34m\u001b[0m\u001b[0m\n\u001b[1;32m   1423\u001b[0m \u001b[0;34m\u001b[0m\u001b[0m\n\u001b[0;32m-> 1424\u001b[0;31m         \u001b[0;32mfor\u001b[0m \u001b[0mline\u001b[0m \u001b[0;32min\u001b[0m \u001b[0mself\u001b[0m\u001b[0;34m.\u001b[0m\u001b[0m_get_lines\u001b[0m\u001b[0;34m(\u001b[0m\u001b[0;34m*\u001b[0m\u001b[0margs\u001b[0m\u001b[0;34m,\u001b[0m \u001b[0;34m**\u001b[0m\u001b[0mkwargs\u001b[0m\u001b[0;34m)\u001b[0m\u001b[0;34m:\u001b[0m\u001b[0;34m\u001b[0m\u001b[0m\n\u001b[0m\u001b[1;32m   1425\u001b[0m             \u001b[0mself\u001b[0m\u001b[0;34m.\u001b[0m\u001b[0madd_line\u001b[0m\u001b[0;34m(\u001b[0m\u001b[0mline\u001b[0m\u001b[0;34m)\u001b[0m\u001b[0;34m\u001b[0m\u001b[0m\n\u001b[1;32m   1426\u001b[0m             \u001b[0mlines\u001b[0m\u001b[0;34m.\u001b[0m\u001b[0mappend\u001b[0m\u001b[0;34m(\u001b[0m\u001b[0mline\u001b[0m\u001b[0;34m)\u001b[0m\u001b[0;34m\u001b[0m\u001b[0m\n",
      "\u001b[0;32m/Users/user/anaconda/lib/python3.5/site-packages/matplotlib/axes/_base.py\u001b[0m in \u001b[0;36m_grab_next_args\u001b[0;34m(self, *args, **kwargs)\u001b[0m\n\u001b[1;32m    384\u001b[0m                 \u001b[0;32mreturn\u001b[0m\u001b[0;34m\u001b[0m\u001b[0m\n\u001b[1;32m    385\u001b[0m             \u001b[0;32mif\u001b[0m \u001b[0mlen\u001b[0m\u001b[0;34m(\u001b[0m\u001b[0mremaining\u001b[0m\u001b[0;34m)\u001b[0m \u001b[0;34m<=\u001b[0m \u001b[0;36m3\u001b[0m\u001b[0;34m:\u001b[0m\u001b[0;34m\u001b[0m\u001b[0m\n\u001b[0;32m--> 386\u001b[0;31m                 \u001b[0;32mfor\u001b[0m \u001b[0mseg\u001b[0m \u001b[0;32min\u001b[0m \u001b[0mself\u001b[0m\u001b[0;34m.\u001b[0m\u001b[0m_plot_args\u001b[0m\u001b[0;34m(\u001b[0m\u001b[0mremaining\u001b[0m\u001b[0;34m,\u001b[0m \u001b[0mkwargs\u001b[0m\u001b[0;34m)\u001b[0m\u001b[0;34m:\u001b[0m\u001b[0;34m\u001b[0m\u001b[0m\n\u001b[0m\u001b[1;32m    387\u001b[0m                     \u001b[0;32myield\u001b[0m \u001b[0mseg\u001b[0m\u001b[0;34m\u001b[0m\u001b[0m\n\u001b[1;32m    388\u001b[0m                 \u001b[0;32mreturn\u001b[0m\u001b[0;34m\u001b[0m\u001b[0m\n",
      "\u001b[0;32m/Users/user/anaconda/lib/python3.5/site-packages/matplotlib/axes/_base.py\u001b[0m in \u001b[0;36m_plot_args\u001b[0;34m(self, tup, kwargs)\u001b[0m\n\u001b[1;32m    362\u001b[0m             \u001b[0mx\u001b[0m\u001b[0;34m,\u001b[0m \u001b[0my\u001b[0m \u001b[0;34m=\u001b[0m \u001b[0mindex_of\u001b[0m\u001b[0;34m(\u001b[0m\u001b[0mtup\u001b[0m\u001b[0;34m[\u001b[0m\u001b[0;34m-\u001b[0m\u001b[0;36m1\u001b[0m\u001b[0;34m]\u001b[0m\u001b[0;34m)\u001b[0m\u001b[0;34m\u001b[0m\u001b[0m\n\u001b[1;32m    363\u001b[0m \u001b[0;34m\u001b[0m\u001b[0m\n\u001b[0;32m--> 364\u001b[0;31m         \u001b[0mx\u001b[0m\u001b[0;34m,\u001b[0m \u001b[0my\u001b[0m \u001b[0;34m=\u001b[0m \u001b[0mself\u001b[0m\u001b[0;34m.\u001b[0m\u001b[0m_xy_from_xy\u001b[0m\u001b[0;34m(\u001b[0m\u001b[0mx\u001b[0m\u001b[0;34m,\u001b[0m \u001b[0my\u001b[0m\u001b[0;34m)\u001b[0m\u001b[0;34m\u001b[0m\u001b[0m\n\u001b[0m\u001b[1;32m    365\u001b[0m \u001b[0;34m\u001b[0m\u001b[0m\n\u001b[1;32m    366\u001b[0m         \u001b[0;32mif\u001b[0m \u001b[0mself\u001b[0m\u001b[0;34m.\u001b[0m\u001b[0mcommand\u001b[0m \u001b[0;34m==\u001b[0m \u001b[0;34m'plot'\u001b[0m\u001b[0;34m:\u001b[0m\u001b[0;34m\u001b[0m\u001b[0m\n",
      "\u001b[0;32m/Users/user/anaconda/lib/python3.5/site-packages/matplotlib/axes/_base.py\u001b[0m in \u001b[0;36m_xy_from_xy\u001b[0;34m(self, x, y)\u001b[0m\n\u001b[1;32m    221\u001b[0m         \u001b[0my\u001b[0m \u001b[0;34m=\u001b[0m \u001b[0m_check_1d\u001b[0m\u001b[0;34m(\u001b[0m\u001b[0my\u001b[0m\u001b[0;34m)\u001b[0m\u001b[0;34m\u001b[0m\u001b[0m\n\u001b[1;32m    222\u001b[0m         \u001b[0;32mif\u001b[0m \u001b[0mx\u001b[0m\u001b[0;34m.\u001b[0m\u001b[0mshape\u001b[0m\u001b[0;34m[\u001b[0m\u001b[0;36m0\u001b[0m\u001b[0;34m]\u001b[0m \u001b[0;34m!=\u001b[0m \u001b[0my\u001b[0m\u001b[0;34m.\u001b[0m\u001b[0mshape\u001b[0m\u001b[0;34m[\u001b[0m\u001b[0;36m0\u001b[0m\u001b[0;34m]\u001b[0m\u001b[0;34m:\u001b[0m\u001b[0;34m\u001b[0m\u001b[0m\n\u001b[0;32m--> 223\u001b[0;31m             \u001b[0;32mraise\u001b[0m \u001b[0mValueError\u001b[0m\u001b[0;34m(\u001b[0m\u001b[0;34m\"x and y must have same first dimension\"\u001b[0m\u001b[0;34m)\u001b[0m\u001b[0;34m\u001b[0m\u001b[0m\n\u001b[0m\u001b[1;32m    224\u001b[0m         \u001b[0;32mif\u001b[0m \u001b[0mx\u001b[0m\u001b[0;34m.\u001b[0m\u001b[0mndim\u001b[0m \u001b[0;34m>\u001b[0m \u001b[0;36m2\u001b[0m \u001b[0;32mor\u001b[0m \u001b[0my\u001b[0m\u001b[0;34m.\u001b[0m\u001b[0mndim\u001b[0m \u001b[0;34m>\u001b[0m \u001b[0;36m2\u001b[0m\u001b[0;34m:\u001b[0m\u001b[0;34m\u001b[0m\u001b[0m\n\u001b[1;32m    225\u001b[0m             \u001b[0;32mraise\u001b[0m \u001b[0mValueError\u001b[0m\u001b[0;34m(\u001b[0m\u001b[0;34m\"x and y can be no greater than 2-D\"\u001b[0m\u001b[0;34m)\u001b[0m\u001b[0;34m\u001b[0m\u001b[0m\n",
      "\u001b[0;31mValueError\u001b[0m: x and y must have same first dimension"
     ]
    },
    {
     "data": {
      "image/png": "[encoded data removed]",
      "text/plain": [
       "<matplotlib.figure.Figure at 0x10f4c4518>"
      ]
     },
     "metadata": {},
     "output_type": "display_data"
    }
   ],
   "source": [
    "pt.plot(mesh, u, 'ro', label = 'Num Sol')\n",
    "pt.plot(mesh, cpp_us, 'ro', label = 'Num Sol')\n",
    "\n",
    "pt.legend()"
   ]
  },
  {
   "cell_type": "code",
   "execution_count": 186,
   "metadata": {
    "collapsed": true
   },
   "outputs": [],
   "source": [
    "n = 19"
   ]
  },
  {
   "cell_type": "code",
   "execution_count": 187,
   "metadata": {
    "collapsed": true
   },
   "outputs": [],
   "source": [
    "def f(x):\n",
    "    return np.exp(x)"
   ]
  },
  {
   "cell_type": "code",
   "execution_count": 188,
   "metadata": {
    "collapsed": false
   },
   "outputs": [],
   "source": [
    "mesh = GCLmesh(n)\n",
    "D = chebyDiffMatrix(n, mesh)\n",
    "K = D.dot(D)\n",
    "if n < 10: print(K)"
   ]
  },
  {
   "cell_type": "code",
   "execution_count": 189,
   "metadata": {
    "collapsed": false
   },
   "outputs": [],
   "source": [
    "K[0,:] = 0\n",
    "K[-1,:] = 0\n",
    "K[0,0] = 1\n",
    "K[-1,-1] = 1"
   ]
  },
  {
   "cell_type": "code",
   "execution_count": 196,
   "metadata": {
    "collapsed": false
   },
   "outputs": [],
   "source": [
    "#P,L,U = spla.lu(K)\n",
    "#print('P:')\n",
    "#print(P)\n",
    "#print('L:')\n",
    "#print(L)\n",
    "#print('U:')\n",
    "#print(U)"
   ]
  },
  {
   "cell_type": "code",
   "execution_count": 190,
   "metadata": {
    "collapsed": false
   },
   "outputs": [],
   "source": [
    "u = np.zeros(n+1)\n",
    "if n < 10: print(u)\n",
    "uk = u.copy()"
   ]
  },
  {
   "cell_type": "code",
   "execution_count": 192,
   "metadata": {
    "collapsed": false
   },
   "outputs": [
    {
     "name": "stdout",
     "output_type": "stream",
     "text": [
      "Found a solution\n",
      "[  2.18551082e-15  -1.06103820e-02  -4.10726391e-02  -8.75360133e-02\n",
      "  -1.44347013e-01  -2.04938193e-01  -2.62700689e-01  -3.11691919e-01\n",
      "  -3.47129738e-01  -3.65695334e-01  -3.65695334e-01  -3.47129738e-01\n",
      "  -3.11691919e-01  -2.62700689e-01  -2.04938193e-01  -1.44347013e-01\n",
      "  -8.75360133e-02  -4.10726391e-02  -1.06103820e-02   0.00000000e+00]\n"
     ]
    }
   ],
   "source": [
    "while(True):\n",
    "    rhs = f(uk)\n",
    "    rhs[0] = 0\n",
    "    rhs[-1] = 0\n",
    "\n",
    "    new_u = la.solve(K,rhs)\n",
    "\n",
    "    if(la.norm(new_u - uk) <= 1e-8):\n",
    "        u = new_u\n",
    "        print('Found a solution')\n",
    "        print(u)\n",
    "        break\n",
    "    else:\n",
    "        uk = new_u"
   ]
  },
  {
   "cell_type": "code",
   "execution_count": 193,
   "metadata": {
    "collapsed": false
   },
   "outputs": [
    {
     "data": {
      "text/plain": [
       "20"
      ]
     },
     "execution_count": 193,
     "metadata": {},
     "output_type": "execute_result"
    }
   ],
   "source": [
    "cpp_xs = np.loadtxt('grid.dat')\n",
    "cpp_us = np.loadtxt('solution.dat')\n",
    "cpp_us.size\n",
    "mesh.size"
   ]
  },
  {
   "cell_type": "code",
   "execution_count": 195,
   "metadata": {
    "collapsed": false
   },
   "outputs": [
    {
     "data": {
      "text/plain": [
       "<matplotlib.legend.Legend at 0x10faf26a0>"
      ]
     },
     "execution_count": 195,
     "metadata": {},
     "output_type": "execute_result"
    },
    {
     "data": {
      "image/png": "[encoded data removed]",
      "text/plain": [
       "<matplotlib.figure.Figure at 0x10f9a5b70>"
      ]
     },
     "metadata": {},
     "output_type": "display_data"
    }
   ],
   "source": [
    "pt.plot(mesh, u, 'ro', label = 'Python Sol')\n",
    "pt.plot(mesh, cpp_us, 'g-', label = 'Cpp Sol')\n",
    "\n",
    "pt.legend()"
   ]
  },
  {
   "cell_type": "code",
   "execution_count": 100,
   "metadata": {
    "collapsed": false
   },
   "outputs": [
    {
     "data": {
      "text/plain": [
       "7.7698071300203574e-16"
      ]
     },
     "execution_count": 100,
     "metadata": {},
     "output_type": "execute_result"
    }
   ],
   "source": [
    "la.norm(u-u1)"
   ]
  },
  {
   "cell_type": "code",
   "execution_count": null,
   "metadata": {
    "collapsed": true
   },
   "outputs": [],
   "source": []
  }
 ],
 "metadata": {
  "kernelspec": {
   "display_name": "Python 3",
   "language": "python",
   "name": "python3"
  },
  "language_info": {
   "codemirror_mode": {
    "name": "ipython",
    "version": 3
   },
   "file_extension": ".py",
   "mimetype": "text/x-python",
   "name": "python",
   "nbconvert_exporter": "python",
   "pygments_lexer": "ipython3",
   "version": "3.5.1"
  }
 },
 "nbformat": 4,
 "nbformat_minor": 1
}
