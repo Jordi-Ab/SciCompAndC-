{
 "cells": [
  {
   "cell_type": "code",
   "execution_count": 1,
   "metadata": {
    "collapsed": true
   },
   "outputs": [],
   "source": [
    "import numpy as np\n",
    "import numpy.linalg as la\n",
    "import scipy.linalg as spla\n",
    "import matplotlib.pyplot as pt\n",
    "import numpy.polynomial.chebyshev as cheby\n",
    "% matplotlib inline"
   ]
  },
  {
   "cell_type": "markdown",
   "metadata": {},
   "source": [
    "I will try to get a solution to the equation:\n",
    "\n",
    "$ \\ddot{u}(x) = 1; \\\\\n",
    "\\text with \\space Boundary \\space Conditions: \\space u(-1) = 0, \\space u(1) = 0 $\n",
    "\n",
    "Its true solution is given by:\n",
    "$u(x) = \\frac{1}{2}x^2 - \\frac{1}{2}$\n",
    "\n",
    "Using Chebyshev Spectral Differentiation matrices."
   ]
  },
  {
   "cell_type": "code",
   "execution_count": 6,
   "metadata": {
    "collapsed": true
   },
   "outputs": [],
   "source": [
    "n= 5"
   ]
  },
  {
   "cell_type": "code",
   "execution_count": 7,
   "metadata": {
    "collapsed": true
   },
   "outputs": [],
   "source": [
    "def GCLmesh(n):\n",
    "    mesh = np.zeros(n+1)\n",
    "    for j in range(0,n+1):\n",
    "        xj = np.cos(j*np.pi/n)\n",
    "        mesh[j] = xj\n",
    "    return mesh"
   ]
  },
  {
   "cell_type": "code",
   "execution_count": 8,
   "metadata": {
    "collapsed": true
   },
   "outputs": [],
   "source": [
    "def chebyDiffMatrix(n, mesh):\n",
    "\td_mat = np.zeros((n+1,n+1))\n",
    "\tfor i in range(0,n+1):\n",
    "\t\tfor j in range(0,n+1):\n",
    "\t\t\tif(i==0 and j==0):\n",
    "\t\t\t\tentry = (2*(n**2) + 1)/6.0\n",
    "\t\t\telif(i==n and j==n):\n",
    "\t\t\t\tentry = - (2*(n**2) + 1)/6.0\n",
    "\t\t\telif (i==j):\n",
    "\t\t\t\tentry = -mesh[j]/(2.0*( 1-(mesh[j]**2) ) )\n",
    "\t\t\telse:\n",
    "\t\t\t\tci = 2.0 if (i==0 or i==n) else 1.0\n",
    "\t\t\t\tcj = 2.0 if (j==0 or j==n) else 1.0\n",
    "\t\t\t\tentry = (ci/cj) * ( ((-1)**(i+j)) / (mesh[i] - mesh[j]) )\n",
    "\t\t\td_mat[i,j] = entry\n",
    "\treturn d_mat"
   ]
  },
  {
   "cell_type": "code",
   "execution_count": 9,
   "metadata": {
    "collapsed": false
   },
   "outputs": [],
   "source": [
    "mesh = GCLmesh(n)\n",
    "#print(mesh)"
   ]
  },
  {
   "cell_type": "code",
   "execution_count": 10,
   "metadata": {
    "collapsed": false
   },
   "outputs": [],
   "source": [
    "D = chebyDiffMatrix(n, mesh)\n",
    "#print(D.round(2))"
   ]
  },
  {
   "cell_type": "code",
   "execution_count": 11,
   "metadata": {
    "collapsed": false
   },
   "outputs": [
    {
     "name": "stdout",
     "output_type": "stream",
     "text": [
      "[[ 41.6  -68.36  40.83 -23.64  17.57  -8.  ]\n",
      " [ 21.29 -31.53  12.68  -3.69   2.21  -0.95]\n",
      " [ -1.85   7.32 -10.07   5.79  -1.91   0.71]\n",
      " [  0.71  -1.91   5.79 -10.07   7.32  -1.85]\n",
      " [ -0.95   2.21  -3.69  12.68 -31.53  21.29]\n",
      " [ -8.    17.57 -23.64  40.83 -68.36  41.6 ]]\n"
     ]
    }
   ],
   "source": [
    "K = D.dot(D)\n",
    "if n < 10: print(K.round(2))"
   ]
  },
  {
   "cell_type": "code",
   "execution_count": 12,
   "metadata": {
    "collapsed": false
   },
   "outputs": [
    {
     "name": "stdout",
     "output_type": "stream",
     "text": [
      "[[-31.53312629  12.68328157  -3.69442719   2.21114562]\n",
      " [  7.31671843 -10.06687371   5.78885438  -1.90557281]\n",
      " [ -1.90557281   5.78885438 -10.06687371   7.31671843]\n",
      " [  2.21114562  -3.69442719  12.68328157 -31.53312629]]\n"
     ]
    }
   ],
   "source": [
    "# Modification 1 (Sub system.)\n",
    "K = K[1:-1, 1:-1]\n",
    "if n < 10: print(K)"
   ]
  },
  {
   "cell_type": "code",
   "execution_count": 145,
   "metadata": {
    "collapsed": false
   },
   "outputs": [],
   "source": [
    "# Modification 2 (unit vectors on first and last row).\n",
    "K[0,:] = 0\n",
    "K[-1,:] = 0\n",
    "K[0,0] = 1\n",
    "K[-1,-1] = 1\n",
    "#print(K)\n",
    "rhs = np.ones(n+1)\n",
    "rhs[0] = 0\n",
    "rhs[-1] = 0"
   ]
  },
  {
   "cell_type": "code",
   "execution_count": 13,
   "metadata": {
    "collapsed": false
   },
   "outputs": [
    {
     "name": "stdout",
     "output_type": "stream",
     "text": [
      "P:\n",
      "[[ 1.  0.  0.  0.]\n",
      " [ 0.  1.  0.  0.]\n",
      " [ 0.  0.  0.  1.]\n",
      " [ 0.  0.  1.  0.]]\n",
      "L:\n",
      "[[ 1.          0.          0.          0.        ]\n",
      " [-0.23203276  1.          0.          0.        ]\n",
      " [-0.07012136  0.39375114  1.          0.        ]\n",
      " [ 0.06043082 -0.70500249 -0.60738131  1.        ]]\n",
      "U:\n",
      "[[-31.53312629  12.68328157  -3.69442719   2.21114562]\n",
      " [  0.          -7.12393684   4.93162623  -1.39251458]\n",
      " [  0.           0.          10.48238986 -30.82977355]\n",
      " [  0.           0.           0.         -12.5240573 ]]\n"
     ]
    }
   ],
   "source": [
    "P,L,U = spla.lu(K)\n",
    "print('P:')\n",
    "print(P)\n",
    "print('L:')\n",
    "print(L)\n",
    "print('U:')\n",
    "print(U)"
   ]
  },
  {
   "cell_type": "code",
   "execution_count": 154,
   "metadata": {
    "collapsed": false
   },
   "outputs": [],
   "source": []
  },
  {
   "cell_type": "code",
   "execution_count": 14,
   "metadata": {
    "collapsed": true
   },
   "outputs": [],
   "source": [
    "# Sub vector of right hand sides.\n",
    "rhs = np.ones(n-1)"
   ]
  },
  {
   "cell_type": "code",
   "execution_count": 15,
   "metadata": {
    "collapsed": false
   },
   "outputs": [],
   "source": [
    "num_sol = np.zeros(n+1)\n",
    "num_sol[0] = 0 # Set first element of the vector to the BC1\n",
    "num_sol[1:-1] = la.solve(K, rhs) # the rest pf the elements come from solving the sub-system.\n",
    "num_sol[-1] = 0 # Set last element of the vector to the BC2"
   ]
  },
  {
   "cell_type": "code",
   "execution_count": 16,
   "metadata": {
    "collapsed": false
   },
   "outputs": [],
   "source": [
    "def true_sol(x):\n",
    "    return(.5*(x**2) - .5)"
   ]
  },
  {
   "cell_type": "code",
   "execution_count": 25,
   "metadata": {
    "collapsed": false
   },
   "outputs": [
    {
     "data": {
      "text/plain": [
       "array([-0.1727458, -0.4522542, -0.4522542, -0.1727458])"
      ]
     },
     "execution_count": 25,
     "metadata": {},
     "output_type": "execute_result"
    }
   ],
   "source": [
    "gareth_us = np.loadtxt('gareth1.dat')\n",
    "gareth_us"
   ]
  },
  {
   "cell_type": "code",
   "execution_count": 26,
   "metadata": {
    "collapsed": false
   },
   "outputs": [
    {
     "data": {
      "text/plain": [
       "array([ 0.        , -0.17274575, -0.45225425, -0.45225425, -0.17274575,  0.        ])"
      ]
     },
     "execution_count": 26,
     "metadata": {},
     "output_type": "execute_result"
    }
   ],
   "source": [
    "num_sol"
   ]
  },
  {
   "cell_type": "code",
   "execution_count": 27,
   "metadata": {
    "collapsed": false
   },
   "outputs": [
    {
     "data": {
      "text/plain": [
       "<matplotlib.legend.Legend at 0x10f4c9978>"
      ]
     },
     "execution_count": 27,
     "metadata": {},
     "output_type": "execute_result"
    },
    {
     "data": {
      "image/png": "[encoded data removed]",
      "text/plain": [
       "<matplotlib.figure.Figure at 0x10f128710>"
      ]
     },
     "metadata": {},
     "output_type": "display_data"
    }
   ],
   "source": [
    "pt.plot(mesh[1:-1], num_sol[1:-1], 'ro', label = 'Num Sol')\n",
    "pt.plot(mesh[1:-1], true_sol(mesh)[1:-1], 'g-', label = 'True Sol')\n",
    "pt.plot(mesh[1:-1], gareth_us, 'bx', label = 'True Sol')\n",
    "pt.legend()"
   ]
  },
  {
   "cell_type": "markdown",
   "metadata": {},
   "source": [
    "Now that we have a method for computing a second order BVP with Spectral Diff matrices,\n",
    "we want to solve a more general problem using fixed point iteration over this method.\n",
    "\n",
    "The problem is as follows:"
   ]
  },
  {
   "cell_type": "markdown",
   "metadata": {},
   "source": [
    "$ \\ddot{u}(x) = e^{u(x)}; \\\\\n",
    "\\text with \\space Boundary \\space Conditions: \\space u(-1) = 0, \\space u(1) = 0 $"
   ]
  },
  {
   "cell_type": "code",
   "execution_count": 83,
   "metadata": {
    "collapsed": true
   },
   "outputs": [],
   "source": [
    "n = 40"
   ]
  },
  {
   "cell_type": "code",
   "execution_count": 84,
   "metadata": {
    "collapsed": true
   },
   "outputs": [],
   "source": [
    "printing = False;"
   ]
  },
  {
   "cell_type": "code",
   "execution_count": 85,
   "metadata": {
    "collapsed": true
   },
   "outputs": [],
   "source": [
    "def f(x):\n",
    "    return np.exp(x)"
   ]
  },
  {
   "cell_type": "code",
   "execution_count": 86,
   "metadata": {
    "collapsed": false
   },
   "outputs": [],
   "source": [
    "mesh = GCLmesh(n)\n",
    "D = chebyDiffMatrix(n, mesh)\n",
    "K = D.dot(D)\n",
    "if printing: \n",
    "    print('D^2')\n",
    "    print(K.round(2))"
   ]
  },
  {
   "cell_type": "code",
   "execution_count": 87,
   "metadata": {
    "collapsed": false
   },
   "outputs": [],
   "source": [
    "modification1 = False\n",
    "if(modification1):\n",
    "    K = K[1:-1, 1:-1]\n",
    "else:\n",
    "    K[0,:] = 0\n",
    "    K[-1,:] = 0\n",
    "    K[0,0] = 1\n",
    "    K[-1,-1] = 1\n",
    "if printing: \n",
    "    print(\" \")\n",
    "    print(\"D^2 modified for BC's\")\n",
    "    print(K.round(2))"
   ]
  },
  {
   "cell_type": "code",
   "execution_count": 88,
   "metadata": {
    "collapsed": false
   },
   "outputs": [],
   "source": [
    "P,L,U = spla.lu(K)\n",
    "\n",
    "if(printing):\n",
    "    print('P:')\n",
    "    print(P)\n",
    "    print('L:')\n",
    "    print(L.round(2))\n",
    "    print('U:')\n",
    "    print(U.round(2))"
   ]
  },
  {
   "cell_type": "code",
   "execution_count": 89,
   "metadata": {
    "collapsed": false
   },
   "outputs": [],
   "source": [
    "u = np.zeros(n+1)\n",
    "if(printing): \n",
    "    print(\"Initial u:\")\n",
    "    print(u.round(2))\n",
    "uk = u.copy()"
   ]
  },
  {
   "cell_type": "code",
   "execution_count": 90,
   "metadata": {
    "collapsed": false
   },
   "outputs": [
    {
     "name": "stdout",
     "output_type": "stream",
     "text": [
      "Found a solution\n"
     ]
    }
   ],
   "source": [
    "while(True):    \n",
    "    rhs = f(uk)\n",
    "    rhs[0] = 0\n",
    "    rhs[-1] = 0\n",
    "\n",
    "    if(modification1):\n",
    "        new_u = np.zeros(n+1)\n",
    "        new_u[1:-1] = la.solve(K,rhs[1:-1])\n",
    "    else:\n",
    "        new_u = la.solve(K,rhs)\n",
    "\n",
    "    if(la.norm(new_u - uk) <= 1e-8):\n",
    "        u = new_u\n",
    "        print('Found a solution')\n",
    "        if(printing): print(u.round(2))\n",
    "        break\n",
    "    else:\n",
    "        uk = new_u"
   ]
  },
  {
   "cell_type": "code",
   "execution_count": 91,
   "metadata": {
    "collapsed": false
   },
   "outputs": [],
   "source": [
    "cpp_xs = np.loadtxt('grid.dat')\n",
    "cpp_us = np.loadtxt('gareth1.dat')"
   ]
  },
  {
   "cell_type": "code",
   "execution_count": 92,
   "metadata": {
    "collapsed": false
   },
   "outputs": [
    {
     "data": {
      "text/plain": [
       "<matplotlib.legend.Legend at 0x10fe4d208>"
      ]
     },
     "execution_count": 92,
     "metadata": {},
     "output_type": "execute_result"
    },
    {
     "data": {
      "image/png": "[encoded data removed]",
      "text/plain": [
       "<matplotlib.figure.Figure at 0x10ff24198>"
      ]
     },
     "metadata": {},
     "output_type": "display_data"
    }
   ],
   "source": [
    "pt.plot(mesh[1:-1], u[1:-1], 'ro', label = 'Python Sol')\n",
    "pt.plot(mesh[1:-1], cpp_us, 'g-', label = \"Gareth's Sol\")\n",
    "\n",
    "pt.legend()"
   ]
  },
  {
   "cell_type": "code",
   "execution_count": 93,
   "metadata": {
    "collapsed": false
   },
   "outputs": [
    {
     "data": {
      "text/plain": [
       "1.8591688993495873e-07"
      ]
     },
     "execution_count": 93,
     "metadata": {},
     "output_type": "execute_result"
    }
   ],
   "source": [
    "la.norm(u[1:-1] - cpp_us)"
   ]
  },
  {
   "cell_type": "code",
   "execution_count": null,
   "metadata": {
    "collapsed": true
   },
   "outputs": [],
   "source": []
  }
 ],
 "metadata": {
  "kernelspec": {
   "display_name": "Python 3",
   "language": "python",
   "name": "python3"
  },
  "language_info": {
   "codemirror_mode": {
    "name": "ipython",
    "version": 3
   },
   "file_extension": ".py",
   "mimetype": "text/x-python",
   "name": "python",
   "nbconvert_exporter": "python",
   "pygments_lexer": "ipython3",
   "version": "3.5.1"
  }
 },
 "nbformat": 4,
 "nbformat_minor": 1
}
