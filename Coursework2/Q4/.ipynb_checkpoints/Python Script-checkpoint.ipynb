{
 "cells": [
  {
   "cell_type": "code",
   "execution_count": 1,
   "metadata": {
    "collapsed": true
   },
   "outputs": [],
   "source": [
    "import numpy as np\n",
    "import numpy.linalg as la\n",
    "import matplotlib.pyplot as pt\n",
    "import numpy.polynomial.chebyshev as cheby\n",
    "% matplotlib inline"
   ]
  },
  {
   "cell_type": "markdown",
   "metadata": {},
   "source": [
    "I will try to get a solution to the equation:\n",
    "\n",
    "$ \\ddot{u}(x) = 1; \\\\\n",
    "\\text with \\space Boundary \\space Conditions: \\space u(-1) = 0, \\space u(1) = 0 $\n",
    "\n",
    "Its true solution is given by:\n",
    "$u(x) = \\frac{1}{2}x^2 - \\frac{1}{2}$\n",
    "\n",
    "Using Chebyshev Spectral Differentiation matrices."
   ]
  },
  {
   "cell_type": "code",
   "execution_count": 147,
   "metadata": {
    "collapsed": true
   },
   "outputs": [],
   "source": [
    "n= 20"
   ]
  },
  {
   "cell_type": "code",
   "execution_count": 148,
   "metadata": {
    "collapsed": true
   },
   "outputs": [],
   "source": [
    "def GCLmesh(n):\n",
    "    mesh = np.zeros(n+1)\n",
    "    for j in range(0,n+1):\n",
    "        xj = np.cos(j*np.pi/n)\n",
    "        mesh[j] = xj\n",
    "    return mesh"
   ]
  },
  {
   "cell_type": "code",
   "execution_count": 149,
   "metadata": {
    "collapsed": true
   },
   "outputs": [],
   "source": [
    "def chebyDiffMatrix(n, mesh):\n",
    "\td_mat = np.zeros((n+1,n+1))\n",
    "\tfor i in range(0,n+1):\n",
    "\t\tfor j in range(0,n+1):\n",
    "\t\t\tif(i==0 and j==0):\n",
    "\t\t\t\tentry = (2*(n**2) + 1)/6.0\n",
    "\t\t\telif(i==n and j==n):\n",
    "\t\t\t\tentry = - (2*(n**2) + 1)/6.0\n",
    "\t\t\telif (i==j):\n",
    "\t\t\t\tentry = -mesh[j]/(2.0*( 1-(mesh[j]**2) ) )\n",
    "\t\t\telse:\n",
    "\t\t\t\tci = 2.0 if (i==0 or i==n) else 1.0\n",
    "\t\t\t\tcj = 2.0 if (j==0 or j==n) else 1.0\n",
    "\t\t\t\tentry = (ci/cj) * ( ((-1)**(i+j)) / (mesh[i] - mesh[j]) )\n",
    "\t\t\td_mat[i,j] = entry\n",
    "\treturn d_mat"
   ]
  },
  {
   "cell_type": "code",
   "execution_count": 150,
   "metadata": {
    "collapsed": false
   },
   "outputs": [],
   "source": [
    "mesh = GCLmesh(n)"
   ]
  },
  {
   "cell_type": "code",
   "execution_count": 151,
   "metadata": {
    "collapsed": false
   },
   "outputs": [],
   "source": [
    "D = chebyDiffMatrix(n, mesh)"
   ]
  },
  {
   "cell_type": "code",
   "execution_count": 152,
   "metadata": {
    "collapsed": false
   },
   "outputs": [],
   "source": [
    "K = D.dot(D)\n",
    "if n < 10: print(K)"
   ]
  },
  {
   "cell_type": "code",
   "execution_count": 153,
   "metadata": {
    "collapsed": false
   },
   "outputs": [],
   "source": [
    "# 1 Modification of matrix for imposing BCs\n",
    "#K[0,:] = 0\n",
    "#K[-1,:] = 0\n",
    "#K[0,0] = 1\n",
    "#K[-1,-1] = 1\n",
    "\n",
    "#rhs = np.ones(n+1)\n",
    "#rhs[0] = 0\n",
    "#rhs[-1] = 0"
   ]
  },
  {
   "cell_type": "code",
   "execution_count": 154,
   "metadata": {
    "collapsed": false
   },
   "outputs": [],
   "source": [
    "# 2 Modification (Solving a sub system.)\n",
    "K = K[1:-1, 1:-1]\n",
    "if n < 10: print(K)"
   ]
  },
  {
   "cell_type": "code",
   "execution_count": 155,
   "metadata": {
    "collapsed": true
   },
   "outputs": [],
   "source": [
    "# Sub vector of right hand sides.\n",
    "rhs = np.ones(n-1)"
   ]
  },
  {
   "cell_type": "code",
   "execution_count": 159,
   "metadata": {
    "collapsed": false
   },
   "outputs": [],
   "source": [
    "num_sol = np.zeros(n+1)\n",
    "num_sol[0] = 0 # Set first element of the vector to the BC1\n",
    "num_sol[1:-1] = la.solve(K, rhs) # the rest pf the elements come from solving the sub-system.\n",
    "num_sol[-1] = 0 # Set last element of the vector to the BC2"
   ]
  },
  {
   "cell_type": "code",
   "execution_count": 157,
   "metadata": {
    "collapsed": false
   },
   "outputs": [],
   "source": [
    "def true_sol(x):\n",
    "    return(.5*(x**2) - .5)\n",
    "\n",
    "xs = np.linspace(-1,1,100)"
   ]
  },
  {
   "cell_type": "code",
   "execution_count": 158,
   "metadata": {
    "collapsed": false
   },
   "outputs": [
    {
     "data": {
      "text/plain": [
       "<matplotlib.legend.Legend at 0x10ff9e710>"
      ]
     },
     "execution_count": 158,
     "metadata": {},
     "output_type": "execute_result"
    },
    {
     "data": {
      "image/png": "[encoded data removed]",
      "text/plain": [
       "<matplotlib.figure.Figure at 0x10f547630>"
      ]
     },
     "metadata": {},
     "output_type": "display_data"
    }
   ],
   "source": [
    "pt.plot(mesh, num_sol, 'ro', label = 'Num Sol')\n",
    "pt.plot(mesh, true_sol(mesh), 'g-', label = 'True Sol')\n",
    "pt.legend()"
   ]
  },
  {
   "cell_type": "markdown",
   "metadata": {},
   "source": [
    "Now that we have a method for computing a second order BVP with Spectral Diff matrices,\n",
    "we want to solve a more general problem using fixed point iteration over this method.\n",
    "\n",
    "The problem is as follows:"
   ]
  },
  {
   "cell_type": "markdown",
   "metadata": {},
   "source": [
    "$ \\ddot{u}(x) = e^{u(x)}; \\\\\n",
    "\\text with \\space Boundary \\space Conditions: \\space u(-1) = 0, \\space u(1) = 0 $"
   ]
  },
  {
   "cell_type": "code",
   "execution_count": 416,
   "metadata": {
    "collapsed": true
   },
   "outputs": [],
   "source": [
    "n = 10"
   ]
  },
  {
   "cell_type": "code",
   "execution_count": 417,
   "metadata": {
    "collapsed": true
   },
   "outputs": [],
   "source": [
    "def f(x):\n",
    "    return np.exp(x)"
   ]
  },
  {
   "cell_type": "code",
   "execution_count": 418,
   "metadata": {
    "collapsed": false
   },
   "outputs": [],
   "source": [
    "mesh = GCLmesh(n)\n",
    "D = chebyDiffMatrix(n, mesh)\n",
    "K = D.dot(D)\n",
    "if n < 10: print(K)"
   ]
  },
  {
   "cell_type": "code",
   "execution_count": 419,
   "metadata": {
    "collapsed": false
   },
   "outputs": [],
   "source": [
    "# Select interior points matrix\n",
    "K = K[1:-1, 1:-1]\n",
    "if n < 10: print(K)"
   ]
  },
  {
   "cell_type": "code",
   "execution_count": 420,
   "metadata": {
    "collapsed": false
   },
   "outputs": [
    {
     "name": "stdout",
     "output_type": "stream",
     "text": [
      "[ 0.  0.  0.  0.  0.  0.  0.  0.  0.  0.  0.  0.  0.  0.  0.  0.  0.  0.\n",
      "  0.]\n"
     ]
    }
   ],
   "source": [
    "u = np.zeros(n+1)\n",
    "if n < 10: print(u)\n",
    "uk = u[1:-1]\n",
    "print(uk)"
   ]
  },
  {
   "cell_type": "code",
   "execution_count": 421,
   "metadata": {
    "collapsed": false
   },
   "outputs": [],
   "source": [
    "while(True):\n",
    "    rhs = f(uk)\n",
    "\n",
    "    new_u = la.solve(K,rhs)\n",
    "    #print ('new_u:')\n",
    "    #print(new_u)\n",
    "    #print ('difference with previous:')\n",
    "    #print((new_u - uk))\n",
    "    if(la.norm(new_u - uk) <= 1e-10):\n",
    "        u[1:-1] = new_u\n",
    "        break\n",
    "        #print('Found a solution')\n",
    "        #print(u)\n",
    "    else:\n",
    "        uk = new_u"
   ]
  },
  {
   "cell_type": "code",
   "execution_count": 422,
   "metadata": {
    "collapsed": false
   },
   "outputs": [
    {
     "data": {
      "text/plain": [
       "<matplotlib.legend.Legend at 0x11010a1d0>"
      ]
     },
     "execution_count": 422,
     "metadata": {},
     "output_type": "execute_result"
    },
    {
     "data": {
      "image/png": "[encoded data removed]",
      "text/plain": [
       "<matplotlib.figure.Figure at 0x11010a0b8>"
      ]
     },
     "metadata": {},
     "output_type": "display_data"
    }
   ],
   "source": [
    "pt.plot(mesh, u, 'ro', label = 'Num Sol')\n",
    "pt.legend()"
   ]
  },
  {
   "cell_type": "code",
   "execution_count": 423,
   "metadata": {
    "collapsed": false
   },
   "outputs": [
    {
     "name": "stdout",
     "output_type": "stream",
     "text": [
      "[ 0.         -0.00958611 -0.03722595 -0.07975387 -0.13246647 -0.18980412\n",
      " -0.24604143 -0.29587053 -0.33482862 -0.35957586 -0.36805602 -0.35957586\n",
      " -0.33482862 -0.29587053 -0.24604143 -0.18980412 -0.13246647 -0.07975387\n",
      " -0.03722595 -0.00958611  0.        ]\n"
     ]
    }
   ],
   "source": [
    "print(u)"
   ]
  },
  {
   "cell_type": "code",
   "execution_count": 424,
   "metadata": {
    "collapsed": true
   },
   "outputs": [],
   "source": [
    "u1 = u.copy"
   ]
  },
  {
   "cell_type": "code",
   "execution_count": 425,
   "metadata": {
    "collapsed": true
   },
   "outputs": [],
   "source": [
    "n = 10"
   ]
  },
  {
   "cell_type": "code",
   "execution_count": 426,
   "metadata": {
    "collapsed": true
   },
   "outputs": [],
   "source": [
    "def f(x):\n",
    "    return np.exp(x)"
   ]
  },
  {
   "cell_type": "code",
   "execution_count": 427,
   "metadata": {
    "collapsed": true
   },
   "outputs": [],
   "source": [
    "mesh = GCLmesh(n)\n",
    "D = chebyDiffMatrix(n, mesh)\n",
    "K = D.dot(D)\n",
    "if n < 10: print(K)"
   ]
  },
  {
   "cell_type": "code",
   "execution_count": 431,
   "metadata": {
    "collapsed": false
   },
   "outputs": [],
   "source": [
    "K[0,:] = 0\n",
    "K[-1,:] = 0\n",
    "K[0,0] = 1\n",
    "K[-1,-1] = 1"
   ]
  },
  {
   "cell_type": "code",
   "execution_count": null,
   "metadata": {
    "collapsed": false
   },
   "outputs": [],
   "source": [
    "u = np.zeros(n+1)\n",
    "if n < 10: print(u)\n",
    "uk = u.copy()\n",
    "print(uk)"
   ]
  },
  {
   "cell_type": "code",
   "execution_count": null,
   "metadata": {
    "collapsed": false
   },
   "outputs": [
    {
     "name": "stderr",
     "output_type": "stream",
     "text": [
      "/Users/user/anaconda/lib/python3.5/site-packages/ipykernel/__main__.py:2: RuntimeWarning: overflow encountered in exp\n",
      "  from ipykernel import kernelapp as app\n"
     ]
    }
   ],
   "source": [
    "\n",
    "rhs = f(uk)\n",
    "\n",
    "new_u = la.solve(K,rhs)\n",
    "#print ('new_u:')\n",
    "#print(new_u)\n",
    "#print ('difference with previous:')\n",
    "#print((new_u - uk))\n",
    "if(la.norm(new_u - uk) <= 1e-10):\n",
    "    u = new_u\n",
    "    break\n",
    "    #print('Found a solution')\n",
    "    #print(u)\n",
    "else:\n",
    "    uk = new_u"
   ]
  },
  {
   "cell_type": "code",
   "execution_count": null,
   "metadata": {
    "collapsed": true
   },
   "outputs": [],
   "source": []
  }
 ],
 "metadata": {
  "kernelspec": {
   "display_name": "Python 3",
   "language": "python",
   "name": "python3"
  },
  "language_info": {
   "codemirror_mode": {
    "name": "ipython",
    "version": 3
   },
   "file_extension": ".py",
   "mimetype": "text/x-python",
   "name": "python",
   "nbconvert_exporter": "python",
   "pygments_lexer": "ipython3",
   "version": "3.5.1"
  }
 },
 "nbformat": 4,
 "nbformat_minor": 1
}
