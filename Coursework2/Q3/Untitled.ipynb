{
 "cells": [
  {
   "cell_type": "code",
   "execution_count": 3,
   "metadata": {
    "collapsed": true
   },
   "outputs": [],
   "source": [
    "import numpy as np\n",
    "import matplotlib.pyplot as pt\n",
    "% matplotlib inline"
   ]
  },
  {
   "cell_type": "code",
   "execution_count": 69,
   "metadata": {
    "collapsed": false
   },
   "outputs": [],
   "source": [
    "n=40"
   ]
  },
  {
   "cell_type": "code",
   "execution_count": 70,
   "metadata": {
    "collapsed": false
   },
   "outputs": [],
   "source": [
    "def GCLmesh(n):\n",
    "    mesh = np.zeros(n)\n",
    "    for j in range(0,n):\n",
    "        xj = np.cos(j*np.pi/n)\n",
    "        mesh[j] = xj\n",
    "    return mesh"
   ]
  },
  {
   "cell_type": "code",
   "execution_count": 71,
   "metadata": {
    "collapsed": false
   },
   "outputs": [],
   "source": [
    "mesh = GCLmesh(n)"
   ]
  },
  {
   "cell_type": "code",
   "execution_count": 72,
   "metadata": {
    "collapsed": false
   },
   "outputs": [],
   "source": [
    "def chebyDiffMatrix(n, mesh):\n",
    "\td_mat = np.zeros((n,n))\n",
    "\tfor i in range(0,n):\n",
    "\t\tfor j in range(0,n):\n",
    "\t\t\tif(i==0 and j==0):\n",
    "\t\t\t\tentry = (2*(n**2) + 1)/6\n",
    "\t\t\telif(i==n-1 and j==n-1):\n",
    "\t\t\t\tentry = - (2*(n**2) + 1)/6\n",
    "\t\t\telif (i==j):\n",
    "\t\t\t\tentry = -mesh[j]/(2*( 1-(mesh[j]**2) ) )\n",
    "\t\t\telse:\n",
    "\t\t\t\tci = 2 if (i==0 or i==n) else 1\n",
    "\t\t\t\tcj = 2 if (j==0 or j==n) else 1\n",
    "\t\t\t\tentry = (ci/cj) * ( ((-1)**(i+j)) / (mesh[i] - mesh[j]) )\n",
    "\t\t\td_mat[i,j] = entry\n",
    "\treturn d_mat"
   ]
  },
  {
   "cell_type": "code",
   "execution_count": 74,
   "metadata": {
    "collapsed": false
   },
   "outputs": [],
   "source": [
    "D = chebyDiffMatrix(n, mesh)"
   ]
  },
  {
   "cell_type": "code",
   "execution_count": 75,
   "metadata": {
    "collapsed": false
   },
   "outputs": [],
   "source": [
    "def f(x):\n",
    "\treturn np.exp(x)*np.sin(5*x);\n",
    "\n",
    "def true_f_prime(x):\n",
    "\treturn np.exp(x)*( 5*np.cos(5*x) + np.sin(5*x) );"
   ]
  },
  {
   "cell_type": "code",
   "execution_count": 76,
   "metadata": {
    "collapsed": false
   },
   "outputs": [],
   "source": [
    "approx_sol = D.dot(f(mesh))"
   ]
  },
  {
   "cell_type": "code",
   "execution_count": 41,
   "metadata": {
    "collapsed": true
   },
   "outputs": [],
   "source": []
  },
  {
   "cell_type": "code",
   "execution_count": 80,
   "metadata": {
    "collapsed": false
   },
   "outputs": [
    {
     "data": {
      "text/plain": [
       "<matplotlib.legend.Legend at 0x10f9d70f0>"
      ]
     },
     "execution_count": 80,
     "metadata": {},
     "output_type": "execute_result"
    },
    {
     "data": {
      "image/png": "[encoded data removed]",
      "text/plain": [
       "<matplotlib.figure.Figure at 0x10f9dc048>"
      ]
     },
     "metadata": {},
     "output_type": "display_data"
    }
   ],
   "source": [
    "pt.plot(mesh[10:], true_f_prime(mesh)[10:], label=\"true diff\")\n",
    "pt.plot(mesh[10:], approx_sol[10:], label = \"Num_approx\")\n",
    "pt.grid()\n",
    "pt.legend()"
   ]
  },
  {
   "cell_type": "code",
   "execution_count": null,
   "metadata": {
    "collapsed": true
   },
   "outputs": [],
   "source": []
  }
 ],
 "metadata": {
  "kernelspec": {
   "display_name": "Python 3",
   "language": "python",
   "name": "python3"
  },
  "language_info": {
   "codemirror_mode": {
    "name": "ipython",
    "version": 3
   },
   "file_extension": ".py",
   "mimetype": "text/x-python",
   "name": "python",
   "nbconvert_exporter": "python",
   "pygments_lexer": "ipython3",
   "version": "3.5.1"
  }
 },
 "nbformat": 4,
 "nbformat_minor": 1
}
