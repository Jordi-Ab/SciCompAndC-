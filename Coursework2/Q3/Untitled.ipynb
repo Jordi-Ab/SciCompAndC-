{
 "cells": [
  {
   "cell_type": "code",
   "execution_count": 1,
   "metadata": {
    "collapsed": true
   },
   "outputs": [],
   "source": [
    "import numpy as np\n",
    "import numpy.linalg as la\n",
    "import matplotlib.pyplot as pt\n",
    "import numpy.polynomial.chebyshev as cheby\n",
    "% matplotlib inline"
   ]
  },
  {
   "cell_type": "code",
   "execution_count": 91,
   "metadata": {
    "collapsed": false
   },
   "outputs": [],
   "source": [
    "max_n=40"
   ]
  },
  {
   "cell_type": "code",
   "execution_count": 75,
   "metadata": {
    "collapsed": false
   },
   "outputs": [],
   "source": [
    "def GCLmesh(n):\n",
    "    mesh = np.zeros(n+1)\n",
    "    for j in range(0,n+1):\n",
    "        xj = np.cos(j*np.pi/n)\n",
    "        mesh[j] = xj\n",
    "    return mesh"
   ]
  },
  {
   "cell_type": "code",
   "execution_count": null,
   "metadata": {
    "collapsed": false
   },
   "outputs": [],
   "source": []
  },
  {
   "cell_type": "code",
   "execution_count": 77,
   "metadata": {
    "collapsed": false
   },
   "outputs": [],
   "source": [
    "def chebyDiffMatrix(n, mesh):\n",
    "\td_mat = np.zeros((n+1,n+1))\n",
    "\tfor i in range(0,n+1):\n",
    "\t\tfor j in range(0,n+1):\n",
    "\t\t\tif(i==0 and j==0):\n",
    "\t\t\t\tentry = (2*(n**2) + 1)/6.0\n",
    "\t\t\telif(i==n and j==n):\n",
    "\t\t\t\tentry = - (2*(n**2) + 1)/6.0\n",
    "\t\t\telif (i==j):\n",
    "\t\t\t\tentry = -mesh[j]/(2.0*( 1-(mesh[j]**2) ) )\n",
    "\t\t\telse:\n",
    "\t\t\t\tci = 2 if (i==0 or i==n) else 1\n",
    "\t\t\t\tcj = 2 if (j==0 or j==n) else 1\n",
    "\t\t\t\tentry = (ci/cj) * ( ((-1)**(i+j)) / (mesh[i] - mesh[j]) )\n",
    "\t\t\td_mat[i,j] = entry\n",
    "\treturn d_mat"
   ]
  },
  {
   "cell_type": "code",
   "execution_count": 97,
   "metadata": {
    "collapsed": false
   },
   "outputs": [],
   "source": [
    "rng = [i for i in range(1,21)]\n",
    "rng = 2*np.array(rng)"
   ]
  },
  {
   "cell_type": "code",
   "execution_count": null,
   "metadata": {
    "collapsed": false
   },
   "outputs": [],
   "source": []
  },
  {
   "cell_type": "code",
   "execution_count": null,
   "metadata": {
    "collapsed": false
   },
   "outputs": [],
   "source": []
  },
  {
   "cell_type": "code",
   "execution_count": 79,
   "metadata": {
    "collapsed": false
   },
   "outputs": [],
   "source": [
    "def f(x):\n",
    "\treturn np.exp(x)*np.sin(5*x);\n",
    "\n",
    "def true_f_prime(x):\n",
    "\treturn np.exp(x)*( 5*np.cos(5*x) + np.sin(5*x) );"
   ]
  },
  {
   "cell_type": "code",
   "execution_count": 100,
   "metadata": {
    "collapsed": false
   },
   "outputs": [
    {
     "name": "stdout",
     "output_type": "stream",
     "text": [
      "For n = 2 error = 6.47969747849\n",
      "For n = 4 error = 10.314920535\n",
      "For n = 6 error = 3.18759880208\n",
      "For n = 8 error = 0.264837976393\n",
      "For n = 10 error = 0.0225155711934\n",
      "For n = 12 error = 0.00159356054834\n",
      "For n = 14 error = 6.72416305152e-05\n",
      "For n = 16 error = 2.1291879817e-06\n",
      "For n = 18 error = 4.68516476726e-08\n",
      "For n = 20 error = 6.73486377778e-10\n",
      "For n = 22 error = 7.89568410653e-12\n",
      "For n = 24 error = 2.09765538273e-12\n",
      "For n = 26 error = 1.87028170728e-12\n",
      "For n = 28 error = 3.01825231475e-12\n",
      "For n = 30 error = 8.91886564602e-12\n",
      "For n = 32 error = 1.01805230912e-11\n",
      "For n = 34 error = 1.55127022339e-11\n",
      "For n = 36 error = 5.63304958234e-12\n",
      "For n = 38 error = 1.49857903864e-12\n",
      "For n = 40 error = 9.14623932147e-12\n"
     ]
    }
   ],
   "source": [
    "for n in rng:\n",
    "    mesh = GCLmesh(n)\n",
    "    D = chebyDiffMatrix(n, mesh)\n",
    "    \n",
    "    us = f(mesh)\n",
    "    approx_sol = D.dot(us)\n",
    "    true_sol = true_f_prime(mesh)\n",
    "    \n",
    "    residual = true_sol - approx_sol\n",
    "    error = la.norm(residual, np.inf)\n",
    "    print (\"For n = \" +str(n)+ \" error = \" + str(error))"
   ]
  },
  {
   "cell_type": "code",
   "execution_count": null,
   "metadata": {
    "collapsed": false
   },
   "outputs": [],
   "source": []
  },
  {
   "cell_type": "code",
   "execution_count": null,
   "metadata": {
    "collapsed": false
   },
   "outputs": [],
   "source": []
  },
  {
   "cell_type": "code",
   "execution_count": null,
   "metadata": {
    "collapsed": false
   },
   "outputs": [],
   "source": []
  },
  {
   "cell_type": "code",
   "execution_count": null,
   "metadata": {
    "collapsed": false
   },
   "outputs": [],
   "source": []
  },
  {
   "cell_type": "code",
   "execution_count": 84,
   "metadata": {
    "collapsed": false
   },
   "outputs": [
    {
     "data": {
      "text/plain": [
       "<matplotlib.legend.Legend at 0x10f262160>"
      ]
     },
     "execution_count": 84,
     "metadata": {},
     "output_type": "execute_result"
    },
    {
     "data": {
      "image/png": "[encoded data removed]",
      "text/plain": [
       "<matplotlib.figure.Figure at 0x10f0a0780>"
      ]
     },
     "metadata": {},
     "output_type": "display_data"
    }
   ],
   "source": [
    "pt.plot(mesh, true_f_prime(mesh), label=\"true diff\")\n",
    "pt.plot(mesh, approx_sol, label = \"Num_approx\")\n",
    "pt.grid()\n",
    "pt.legend()"
   ]
  },
  {
   "cell_type": "code",
   "execution_count": 85,
   "metadata": {
    "collapsed": false
   },
   "outputs": [],
   "source": [
    "residual = true_f_prime(mesh) - approx_sol\n",
    "error = la.norm(residual, np.inf)"
   ]
  },
  {
   "cell_type": "code",
   "execution_count": 86,
   "metadata": {
    "collapsed": false
   },
   "outputs": [
    {
     "data": {
      "text/plain": [
       "0.022515571193442163"
      ]
     },
     "execution_count": 86,
     "metadata": {},
     "output_type": "execute_result"
    }
   ],
   "source": [
    "error"
   ]
  },
  {
   "cell_type": "code",
   "execution_count": 87,
   "metadata": {
    "collapsed": false
   },
   "outputs": [
    {
     "data": {
      "text/plain": [
       "array([-0.00230713,  0.00072416,  0.00054431, -0.00253603,  0.00494087,\n",
       "       -0.00728069,  0.0091255 , -0.01030858,  0.01092869, -0.01119034,\n",
       "        0.02251557])"
      ]
     },
     "execution_count": 87,
     "metadata": {},
     "output_type": "execute_result"
    }
   ],
   "source": [
    "residual"
   ]
  },
  {
   "cell_type": "code",
   "execution_count": null,
   "metadata": {
    "collapsed": true
   },
   "outputs": [],
   "source": []
  }
 ],
 "metadata": {
  "kernelspec": {
   "display_name": "Python 3",
   "language": "python",
   "name": "python3"
  },
  "language_info": {
   "codemirror_mode": {
    "name": "ipython",
    "version": 3
   },
   "file_extension": ".py",
   "mimetype": "text/x-python",
   "name": "python",
   "nbconvert_exporter": "python",
   "pygments_lexer": "ipython3",
   "version": "3.5.1"
  }
 },
 "nbformat": 4,
 "nbformat_minor": 1
}
