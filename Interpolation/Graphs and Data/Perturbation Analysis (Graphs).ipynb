{
 "cells": [
  {
   "cell_type": "code",
   "execution_count": 1,
   "metadata": {
    "collapsed": true
   },
   "outputs": [],
   "source": [
    "import numpy as np\n",
    "import matplotlib.pyplot as pt\n",
    "%matplotlib inline"
   ]
  },
  {
   "cell_type": "markdown",
   "metadata": {},
   "source": [
    "In this part, we want to test how stable is Lagrange interpolation with equally spaced nodes.\n",
    "The function\n",
    "$ f(x) = \\sin{2 \\pi x}$\n",
    "is interpolated using 22 evenly spaced nodes on the interval [-1,1].\n",
    "\n",
    "The values are then perturbed using uniformly, identical and independently distributed random variables.\n",
    "\n",
    "$\\tilde f(x_{j}) = f(x_{j}) + \\sigma_{j}, \\quad \\text{where} \\quad \\sigma_{j} \\backsim U[-.005, .005] $\n",
    "\n",
    "A new interpolant is then computed using the perturbed values."
   ]
  },
  {
   "cell_type": "code",
   "execution_count": 8,
   "metadata": {
    "collapsed": true
   },
   "outputs": [],
   "source": [
    "x,f = np.loadtxt('Data/Q4_data_22nodes.dat',unpack=True)\n",
    "x_prime,f_prime = np.loadtxt('Data/Q4_perturbed_data_22nodes.dat',unpack=True)\n",
    "xi,fi = np.loadtxt('Data/Q4_interpolated_data_22nodes.dat',unpack=True)\n",
    "xi_prime,fi_prime = np.loadtxt('Data/Q4_perturbed_interpolated_data_22nodes.dat',unpack=True)"
   ]
  },
  {
   "cell_type": "code",
   "execution_count": 11,
   "metadata": {
    "collapsed": false
   },
   "outputs": [
    {
     "data": {
      "text/plain": [
       "<matplotlib.legend.Legend at 0x10f5f29b0>"
      ]
     },
     "execution_count": 11,
     "metadata": {},
     "output_type": "execute_result"
    },
    {
     "data": {
      "image/png": "[encoded data removed]",
      "text/plain": [
       "<matplotlib.figure.Figure at 0x10f54a0f0>"
      ]
     },
     "metadata": {},
     "output_type": "display_data"
    }
   ],
   "source": [
    "pt.plot(x,f,'ro',label='Nodes')\n",
    "pt.plot(x_prime,f_prime,'bo',label='Pert Nodes')\n",
    "pt.plot(xi,fi,'r-',label='Interp')\n",
    "pt.plot(xi_prime,fi_prime,'b-',label='Pert Interp')\n",
    "pt.legend(loc = 'lower center')"
   ]
  },
  {
   "cell_type": "markdown",
   "metadata": {},
   "source": [
    "#### Figure1:\n",
    "Interpolant with perturbed values (blue), on top of original interpolant (red), of function \n",
    "$ f(x) = \\sin{2 \\pi x}$ \n",
    "using 22 evenly spaced nodes between [-1,1].\n",
    "\n",
    "The lack of fit of the perturbed interpolant, at the boundaries, is prominent."
   ]
  },
  {
   "cell_type": "markdown",
   "metadata": {},
   "source": [
    "### Let's try throwing more nodes to the interpolant?\n",
    "How about using 30 evenly spaced nodes."
   ]
  },
  {
   "cell_type": "code",
   "execution_count": 12,
   "metadata": {
    "collapsed": true
   },
   "outputs": [],
   "source": [
    "x,f = np.loadtxt('Data/Q4_data_30nodes.dat',unpack=True)\n",
    "x_prime,f_prime = np.loadtxt('Data/Q4_perturbed_data_30nodes.dat',unpack=True)\n",
    "xi,fi = np.loadtxt('Data/Q4_interpolated_data_30nodes.dat',unpack=True)\n",
    "xi_prime,fi_prime = np.loadtxt('Data/Q4_perturbed_interpolated_data_30nodes.dat',unpack=True)"
   ]
  },
  {
   "cell_type": "code",
   "execution_count": 13,
   "metadata": {
    "collapsed": false
   },
   "outputs": [
    {
     "data": {
      "text/plain": [
       "<matplotlib.legend.Legend at 0x10f6dcb38>"
      ]
     },
     "execution_count": 13,
     "metadata": {},
     "output_type": "execute_result"
    },
    {
     "data": {
      "image/png": "[encoded data removed]",
      "text/plain": [
       "<matplotlib.figure.Figure at 0x10f64c198>"
      ]
     },
     "metadata": {},
     "output_type": "display_data"
    }
   ],
   "source": [
    "pt.plot(x,f,'ro',label='Nodes')\n",
    "pt.plot(x_prime,f_prime,'bo',label='Pert Nodes')\n",
    "pt.plot(xi,fi,'r-',label='Interp')\n",
    "pt.plot(xi_prime,fi_prime,'b-',label='Pert Interp')\n",
    "pt.legend(loc = 'lower center')"
   ]
  },
  {
   "cell_type": "markdown",
   "metadata": {},
   "source": [
    "#### Figure2:\n",
    "Interpolant with perturbed values (blue), on top of original interpolant (red), of function \n",
    "$ f(x) = \\sin{2 \\pi x}$ \n",
    "using 30 evenly spaced nodes between [-1,1].\n",
    "\n",
    "The lack of fit of the perturbed interpolant, at the boundaries, is still prominent."
   ]
  },
  {
   "cell_type": "markdown",
   "metadata": {},
   "source": [
    "#### Nope, not better.\n",
    "#### Seems like Interpolation is unstable regarding errors in the data. That is, small errors in the values produce completley different interpolations.\n",
    "#### Can we somehow fix this?"
   ]
  },
  {
   "cell_type": "code",
   "execution_count": null,
   "metadata": {
    "collapsed": true
   },
   "outputs": [],
   "source": []
  },
  {
   "cell_type": "code",
   "execution_count": 17,
   "metadata": {
    "collapsed": false
   },
   "outputs": [],
   "source": []
  },
  {
   "cell_type": "code",
   "execution_count": null,
   "metadata": {
    "collapsed": false
   },
   "outputs": [],
   "source": []
  },
  {
   "cell_type": "code",
   "execution_count": null,
   "metadata": {
    "collapsed": true
   },
   "outputs": [],
   "source": []
  }
 ],
 "metadata": {
  "kernelspec": {
   "display_name": "Python 3",
   "language": "python",
   "name": "python3"
  },
  "language_info": {
   "codemirror_mode": {
    "name": "ipython",
    "version": 3
   },
   "file_extension": ".py",
   "mimetype": "text/x-python",
   "name": "python",
   "nbconvert_exporter": "python",
   "pygments_lexer": "ipython3",
   "version": "3.5.1"
  }
 },
 "nbformat": 4,
 "nbformat_minor": 1
}
