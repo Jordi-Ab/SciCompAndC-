{
 "cells": [
  {
   "cell_type": "code",
   "execution_count": 2,
   "metadata": {
    "collapsed": true
   },
   "outputs": [],
   "source": [
    "import numpy as np\n",
    "import numpy.linalg as la\n",
    "import matplotlib.pyplot as pt\n",
    "% matplotlib inline"
   ]
  },
  {
   "cell_type": "code",
   "execution_count": 3,
   "metadata": {
    "collapsed": false
   },
   "outputs": [],
   "source": [
    "def ChebyshevGrid1D(n):\n",
    "    assert(n>0)\n",
    "    nodes = []\n",
    "    for j in range(0,n+1):\n",
    "        nodes.append(np.cos(j*np.pi/n));\n",
    "    return np.array(nodes)"
   ]
  },
  {
   "cell_type": "code",
   "execution_count": 4,
   "metadata": {
    "collapsed": false
   },
   "outputs": [],
   "source": [
    "def FirstOrderDifferentiationMatrix(grid):\n",
    "    n = len(grid)-1\n",
    "    M = np.zeros((n+1, n+1));\n",
    "    for i in range(0, n+1):\n",
    "        xi = grid[i]\n",
    "        for j in range(0, n+1):\n",
    "            xj = grid[j]\n",
    "            if (i==0 and j==0):\n",
    "                entry = (2*(n**2) + 1)/6.0;\n",
    "            elif (i==n and j==n):\n",
    "                entry = -(2*(n**2) + 1)/6.0;\n",
    "            elif (i==j):\n",
    "                entry = -xj / (2*( 1-(xj**2) ));\n",
    "            else:\n",
    "                ci = (2.0 if(i==0 or i==n) else 1.0);\n",
    "                cj = (2.0 if(j==0 or j==n) else 1.0);\n",
    "                entry = (ci/cj) * ( ( (-1)**(i+j) )/(xi - xj) );\n",
    "            M[i, j] = entry;\n",
    "    return M"
   ]
  },
  {
   "cell_type": "code",
   "execution_count": 5,
   "metadata": {
    "collapsed": false
   },
   "outputs": [],
   "source": [
    "def SecondOrderDifferentiationMatrix(grid):\n",
    "    n = len(grid)-1\n",
    "    M = np.zeros((n+1, n+1));\n",
    "    for i in range(0, n+1):\n",
    "        xi = grid[i]\n",
    "        for j in range(0, n+1):\n",
    "            xj = grid[j]\n",
    "            # First fill-in values at the boundaries\n",
    "            if ( (i==0 and j==0) or (i==n and j==n) ):\n",
    "                entry = ((n**4) - 1)/15.0\n",
    "            # Then fill-in values at the first row\n",
    "            elif (i==0):\n",
    "                cj = (2.0 if(j==0 or j==n) else 1.0);\n",
    "                c = ( (-1)**(j) ) / cj \n",
    "                num = ( 2*(n**2) + 1 )*(1-xj) - 6\n",
    "                den = (1 - xj)**2\n",
    "                entry = (2/3.0)*c*(num / den)\n",
    "            # Then fill-in values at the last row\n",
    "            elif (i == n):\n",
    "                cj = (2.0 if(j==0 or j==n) else 1.0);\n",
    "                c = ( (-1)**(j+n) ) / cj \n",
    "                num = ( 2*(n**2) + 1 )*(1+xj) - 6\n",
    "                den = (1 + xj)**2\n",
    "                entry = (2/3.0)*c*(num / den)\n",
    "            # Then fill-in values at the diagonal\n",
    "            elif (i==j):\n",
    "                num = ((n**2)-1)*(1-(xi**2)) + 3\n",
    "                den = 3*( (1-(xi**2))**2 )\n",
    "                entry = - num/den;\n",
    "            # At last, fill-in the rest of the values.\n",
    "            else:\n",
    "                cj = (2.0 if(j==0 or j==n) else 1.0);\n",
    "                c = ( (-1)**(i+j) ) / cj \n",
    "                num = (xi**2) + (xi*xj) - 2\n",
    "                den = ( 1-(xi**2) )*( (xi-xj)**2 )\n",
    "                entry = c*(num / den)\n",
    "            M[i, j] = entry;\n",
    "    return M"
   ]
  },
  {
   "cell_type": "code",
   "execution_count": 6,
   "metadata": {
    "collapsed": true
   },
   "outputs": [],
   "source": [
    "def initConditionFunction(x,y):\n",
    "    return np.exp(-40*((x-.4)**2) - 40*(y*y))\n",
    "    #return x+y # Another function."
   ]
  },
  {
   "cell_type": "code",
   "execution_count": 7,
   "metadata": {
    "collapsed": true
   },
   "outputs": [],
   "source": [
    "n = 3"
   ]
  },
  {
   "cell_type": "code",
   "execution_count": 33,
   "metadata": {
    "collapsed": false
   },
   "outputs": [],
   "source": [
    "x_mesh = ChebyshevGrid1D(n)\n",
    "y_mesh = ChebyshevGrid1D(n)\n",
    "interior_x_mesh = x_mesh[1:-1]\n",
    "interior_y_mesh = y_mesh[1:-1]"
   ]
  },
  {
   "cell_type": "code",
   "execution_count": 9,
   "metadata": {
    "collapsed": false
   },
   "outputs": [],
   "source": [
    "complete_init_u = []\n",
    "for x_node in x_mesh:\n",
    "    for y_node in y_mesh:\n",
    "        value = initConditionFunction(x_node, y_node)\n",
    "        complete_init_u.append(value)\n",
    "complete_init_u = np.array(complete_init_u)\n",
    "\n",
    "interior_init_u = []\n",
    "for x_node in interior_x_mesh:\n",
    "    for y_node in interior_y_mesh:\n",
    "        value = initConditionFunction(x_node, y_node)\n",
    "        interior_init_u.append(value)\n",
    "interior_init_u = np.array(interior_init_u)\n",
    "\n",
    "interior_init_u2 = []\n",
    "for i in range(1, len(x_mesh)-1):\n",
    "    for j in range(1, len(y_mesh)-1):\n",
    "        value = initConditionFunction(x_mesh[i], y_mesh[j])\n",
    "        interior_init_u2.append(value)\n",
    "interior_init_u2 = np.array(interior_init_u2)"
   ]
  },
  {
   "cell_type": "code",
   "execution_count": 10,
   "metadata": {
    "collapsed": false
   },
   "outputs": [
    {
     "name": "stdout",
     "output_type": "stream",
     "text": [
      "[  2.36799175e-24   2.53054836e-11   2.53054836e-11   2.36799175e-24\n",
      "   2.84775702e-18   3.04324830e-05   3.04324830e-05   2.84775702e-18\n",
      "   3.60644663e-32   3.85402003e-19   3.85402003e-19   3.60644663e-32\n",
      "   3.79781095e-52   4.05852102e-39   4.05852102e-39   3.79781095e-52]\n",
      "[  3.04324830e-05   3.04324830e-05   3.85402003e-19   3.85402003e-19]\n",
      "[  3.04324830e-05   3.04324830e-05   3.85402003e-19   3.85402003e-19]\n"
     ]
    }
   ],
   "source": [
    "print(complete_init_u)\n",
    "print(interior_init_u)\n",
    "print(interior_init_u2)"
   ]
  },
  {
   "cell_type": "code",
   "execution_count": 13,
   "metadata": {
    "collapsed": false
   },
   "outputs": [
    {
     "name": "stdout",
     "output_type": "stream",
     "text": [
      "[[ 5.33333333 -9.33333333  6.66666667 -2.66666667]\n",
      " [ 3.33333333 -5.33333333  2.66666667 -0.66666667]\n",
      " [-0.66666667  2.66666667 -5.33333333  3.33333333]\n",
      " [-2.66666667  6.66666667 -9.33333333  5.33333333]]\n",
      "[[-5.33333333  2.66666667]\n",
      " [ 2.66666667 -5.33333333]]\n"
     ]
    }
   ],
   "source": [
    "Dx_2 = SecondOrderDifferentiationMatrix(x_mesh)\n",
    "interior_Dx2 = Dx_2[1:-1, 1:-1]\n",
    "Ix = np.eye(n-1)\n",
    "Iy = np.eye(n-1)\n",
    "print(Dx_2)\n",
    "print(interior_Dx2)"
   ]
  },
  {
   "cell_type": "code",
   "execution_count": 14,
   "metadata": {
    "collapsed": false
   },
   "outputs": [],
   "source": [
    "L = np.kron(Dx_2, np.eye(n+1)) + np.kron(np.eye(n+1), Dx_2)\n",
    "L_interior = np.kron(interior_Dx2, Iy) + np.kron(Ix, interior_Dx2)\n",
    "interior_L = L[1:-1, 1:-1]"
   ]
  },
  {
   "cell_type": "code",
   "execution_count": 18,
   "metadata": {
    "collapsed": false
   },
   "outputs": [
    {
     "name": "stdout",
     "output_type": "stream",
     "text": [
      "(16, 16)\n",
      "[[-10.66666667   2.66666667   2.66666667   0.        ]\n",
      " [  2.66666667 -10.66666667   0.           2.66666667]\n",
      " [  2.66666667   0.         -10.66666667   2.66666667]\n",
      " [  0.           2.66666667   2.66666667 -10.66666667]]\n",
      "(14, 14)\n"
     ]
    }
   ],
   "source": [
    "print(L.shape)\n",
    "print(L_interior)\n",
    "print(interior_L.shape)"
   ]
  },
  {
   "cell_type": "code",
   "execution_count": 76,
   "metadata": {
    "collapsed": false
   },
   "outputs": [
    {
     "name": "stdout",
     "output_type": "stream",
     "text": [
      "[[-5.33333333  2.66666667]\n",
      " [ 2.66666667 -5.33333333]]\n"
     ]
    }
   ],
   "source": [
    "print(interior_Dx_2)"
   ]
  },
  {
   "cell_type": "code",
   "execution_count": 77,
   "metadata": {
    "collapsed": false
   },
   "outputs": [
    {
     "name": "stdout",
     "output_type": "stream",
     "text": [
      "[[ 0.          0.22222222]\n",
      " [ 0.22222222  0.        ]]\n"
     ]
    }
   ],
   "source": [
    "print(int_Dx_2)"
   ]
  },
  {
   "cell_type": "code",
   "execution_count": 158,
   "metadata": {
    "collapsed": false
   },
   "outputs": [],
   "source": [
    "L = np.kron(Dx_2, np.eye(n+1)) + np.kron(np.eye(n+1), Dy_2)\n",
    "L_interior = np.kron(interior_Dx_2, Iy) + np.kron(Ix, interior_Dy_2)"
   ]
  },
  {
   "cell_type": "code",
   "execution_count": 159,
   "metadata": {
    "collapsed": false
   },
   "outputs": [
    {
     "name": "stdout",
     "output_type": "stream",
     "text": [
      "(16, 16)\n",
      "(4, 4)\n"
     ]
    }
   ],
   "source": [
    "print(L.shape)\n",
    "print(L_interior.shape)"
   ]
  },
  {
   "cell_type": "code",
   "execution_count": 167,
   "metadata": {
    "collapsed": false
   },
   "outputs": [
    {
     "name": "stdout",
     "output_type": "stream",
     "text": [
      "(16, 16)\n"
     ]
    }
   ],
   "source": [
    "# Apply boundary condition to L\n",
    "first_row = np.zeros(L.shape[0])\n",
    "first_row[0] = 1\n",
    "last_row = np.zeros(L.shape[0])\n",
    "last_row[-1] = 1\n",
    "L[0] = first_row\n",
    "L[-1] = last_row\n",
    "\n",
    "print(L.shape)"
   ]
  },
  {
   "cell_type": "code",
   "execution_count": 160,
   "metadata": {
    "collapsed": false
   },
   "outputs": [
    {
     "name": "stdout",
     "output_type": "stream",
     "text": [
      "(16, 16)\n"
     ]
    }
   ],
   "source": [
    "# Apply boundary condition to L\n",
    "#L[0] = np.zeros(L.shape[0])\n",
    "#L[-1] = np.zeros(L.shape[0])\n",
    "#L[:, 0] = np.zeros(L.shape[0])\n",
    "#L[:, -1] = np.zeros(L.shape[0])\n",
    "#print(L.shape)"
   ]
  },
  {
   "cell_type": "code",
   "execution_count": 168,
   "metadata": {
    "collapsed": false
   },
   "outputs": [
    {
     "name": "stdout",
     "output_type": "stream",
     "text": [
      "[[  1.     0.     0.     0.     0.     0.     0.     0.     0.     0.     0.\n",
      "    0.     0.     0.     0.     0.  ]\n",
      " [  0.    -0.     2.67  -0.67   0.    -9.33   0.    -0.     0.     6.67\n",
      "    0.     0.     0.    -2.67   0.     0.  ]\n",
      " [  0.     2.67   0.     3.33  -0.     0.    -9.33   0.     0.     0.\n",
      "    6.67   0.    -0.     0.    -2.67   0.  ]\n",
      " [  0.     6.67  -9.33  10.67  -0.     0.    -0.    -9.33   0.     0.     0.\n",
      "    6.67  -0.     0.    -0.     0.  ]\n",
      " [  0.     0.     0.     0.    -0.    -9.33   6.67  -2.67   2.67   0.     0.\n",
      "    0.    -0.67  -0.     0.     0.  ]\n",
      " [  0.     3.33   0.     0.     3.33 -10.67   2.67  -0.67   0.     2.67\n",
      "    0.     0.     0.    -0.67   0.     0.  ]\n",
      " [  0.     0.     3.33   0.    -0.67   2.67 -10.67   3.33   0.     0.\n",
      "    2.67   0.    -0.     0.    -0.67   0.  ]\n",
      " [  0.     0.     0.     3.33  -2.67   6.67  -9.33  -0.     0.     0.     0.\n",
      "    2.67  -0.     0.    -0.     0.  ]\n",
      " [  0.    -0.     0.    -0.     2.67   0.     0.     0.     0.    -9.33\n",
      "    6.67  -2.67   3.33   0.     0.     0.  ]\n",
      " [  0.    -0.67   0.    -0.     0.     2.67   0.     0.     3.33 -10.67\n",
      "    2.67  -0.67   0.     3.33   0.     0.  ]\n",
      " [  0.     0.    -0.67   0.     0.     0.     2.67   0.    -0.67   2.67\n",
      "  -10.67   3.33   0.     0.     3.33   0.  ]\n",
      " [  0.     0.    -0.    -0.67   0.     0.     0.     2.67  -2.67   6.67\n",
      "   -9.33   0.     0.     0.     0.     0.  ]\n",
      " [  0.    -0.     0.    -0.     6.67   0.     0.     0.    -9.33  -0.     0.\n",
      "   -0.    10.67  -9.33   6.67   0.  ]\n",
      " [  0.    -2.67   0.    -0.     0.     6.67   0.     0.     0.    -9.33\n",
      "    0.    -0.     3.33  -0.     2.67   0.  ]\n",
      " [  0.     0.    -2.67   0.     0.     0.     6.67   0.    -0.     0.\n",
      "   -9.33   0.    -0.67   2.67   0.     0.  ]\n",
      " [  0.     0.     0.     0.     0.     0.     0.     0.     0.     0.     0.\n",
      "    0.     0.     0.     0.     1.  ]]\n"
     ]
    }
   ],
   "source": [
    "print(L.round(2))"
   ]
  },
  {
   "cell_type": "code",
   "execution_count": 169,
   "metadata": {
    "collapsed": false,
    "scrolled": true
   },
   "outputs": [
    {
     "name": "stdout",
     "output_type": "stream",
     "text": [
      "[ 2.   -6.67  1.33 -0.   -6.67 -0.    0.   -1.33  1.33  0.    0.    6.67\n",
      " -0.   -1.33  6.67 -2.  ]\n"
     ]
    }
   ],
   "source": [
    "print(L.dot(complete_init_u).round(2))"
   ]
  },
  {
   "cell_type": "code",
   "execution_count": 170,
   "metadata": {
    "collapsed": false
   },
   "outputs": [
    {
     "name": "stdout",
     "output_type": "stream",
     "text": [
      "[-10.67  -0.    -0.    10.67]\n"
     ]
    }
   ],
   "source": [
    "print(L_interior.dot(interior_init_u).round(2))"
   ]
  },
  {
   "cell_type": "code",
   "execution_count": 9,
   "metadata": {
    "collapsed": false
   },
   "outputs": [],
   "source": [
    "Dx = SecondOrderDifferentiationMatrix(3)\n",
    "Dy = SecondOrderDifferentiationMatrix(3)\n",
    "Ix = np.eye(4)\n",
    "Iy = np.eye(4)"
   ]
  },
  {
   "cell_type": "code",
   "execution_count": 10,
   "metadata": {
    "collapsed": false
   },
   "outputs": [],
   "source": [
    "L = np.kron(Dx, Iy) + np.kron(Dy, Ix)"
   ]
  },
  {
   "cell_type": "code",
   "execution_count": 16,
   "metadata": {
    "collapsed": false
   },
   "outputs": [
    {
     "data": {
      "text/plain": [
       "(16, 16)"
      ]
     },
     "execution_count": 16,
     "metadata": {},
     "output_type": "execute_result"
    }
   ],
   "source": [
    "L.shape"
   ]
  },
  {
   "cell_type": "code",
   "execution_count": 33,
   "metadata": {
    "collapsed": true
   },
   "outputs": [],
   "source": [
    "d_4 = SecondOrderDifferentiationMatrix(4)"
   ]
  },
  {
   "cell_type": "code",
   "execution_count": 34,
   "metadata": {
    "collapsed": true
   },
   "outputs": [],
   "source": [
    "d_4 = d_4[1:4, 1:4]"
   ]
  },
  {
   "cell_type": "code",
   "execution_count": 35,
   "metadata": {
    "collapsed": false
   },
   "outputs": [
    {
     "name": "stdout",
     "output_type": "stream",
     "text": [
      "[[-14.   6.  -2.]\n",
      " [  4.  -6.   4.]\n",
      " [ -2.   6. -14.]]\n"
     ]
    }
   ],
   "source": [
    "print(d_4)"
   ]
  },
  {
   "cell_type": "code",
   "execution_count": 27,
   "metadata": {
    "collapsed": false
   },
   "outputs": [],
   "source": [
    "def isBoundary(x_ix, y_ix):\n",
    "    if( (x_ix == 0 or x_ix == 3) or (y_ix == 0 or y_ix == 3) ):\n",
    "        return True\n",
    "    else:\n",
    "        return False"
   ]
  },
  {
   "cell_type": "code",
   "execution_count": 31,
   "metadata": {
    "collapsed": false
   },
   "outputs": [
    {
     "name": "stdout",
     "output_type": "stream",
     "text": [
      "Node @ (0,0) is a Boundary Node\n",
      "Node @ (0,1) is a Boundary Node\n",
      "Node @ (0,2) is a Boundary Node\n",
      "Node @ (0,3) is a Boundary Node\n",
      "Node @ (1,0) is a Boundary Node\n",
      "Node @ (1,1) is not a Boundary Node\n",
      "Node @ (1,2) is not a Boundary Node\n",
      "Node @ (1,3) is a Boundary Node\n",
      "Node @ (2,0) is a Boundary Node\n",
      "Node @ (2,1) is not a Boundary Node\n",
      "Node @ (2,2) is not a Boundary Node\n",
      "Node @ (2,3) is a Boundary Node\n",
      "Node @ (3,0) is a Boundary Node\n",
      "Node @ (3,1) is a Boundary Node\n",
      "Node @ (3,2) is a Boundary Node\n",
      "Node @ (3,3) is a Boundary Node\n"
     ]
    }
   ],
   "source": [
    "for i in range(0,4):\n",
    "    for j in range(0,4):\n",
    "        if (isBoundary(i,j)):\n",
    "            print(\"Node @ (\"+str(i)+\",\"+str(j)+\") is a Boundary Node\")\n",
    "        else:\n",
    "            print(\"Node @ (\"+str(i)+\",\"+str(j)+\") is not a Boundary Node\")"
   ]
  },
  {
   "cell_type": "code",
   "execution_count": 32,
   "metadata": {
    "collapsed": false
   },
   "outputs": [
    {
     "data": {
      "text/plain": [
       "0.00375"
      ]
     },
     "execution_count": 32,
     "metadata": {},
     "output_type": "execute_result"
    }
   ],
   "source": [
    "6/1600"
   ]
  },
  {
   "cell_type": "markdown",
   "metadata": {},
   "source": [
    "### Plot Data produced by the C++ program"
   ]
  },
  {
   "cell_type": "code",
   "execution_count": 79,
   "metadata": {
    "collapsed": true
   },
   "outputs": [],
   "source": [
    "from mpl_toolkits.mplot3d import Axes3D\n",
    "import matplotlib.pyplot as pt"
   ]
  },
  {
   "cell_type": "code",
   "execution_count": 80,
   "metadata": {
    "collapsed": true
   },
   "outputs": [],
   "source": [
    "pt.rc('text', usetex=True)\n",
    "pt.rc('font', family='serif')"
   ]
  },
  {
   "cell_type": "code",
   "execution_count": 81,
   "metadata": {
    "collapsed": false
   },
   "outputs": [],
   "source": [
    "array = np.loadtxt('OutputData/StormVerlet_Q4_output.dat')"
   ]
  },
  {
   "cell_type": "code",
   "execution_count": 82,
   "metadata": {
    "collapsed": false
   },
   "outputs": [],
   "source": [
    "_map = {}\n",
    "for ix in range(len(array)):\n",
    "    t = array[ix,0]\n",
    "    _map[t] = array[ix,1:]"
   ]
  },
  {
   "cell_type": "code",
   "execution_count": 101,
   "metadata": {
    "collapsed": false
   },
   "outputs": [],
   "source": [
    "N = int(np.sqrt(len(_map[0])))"
   ]
  },
  {
   "cell_type": "code",
   "execution_count": 107,
   "metadata": {
    "collapsed": false,
    "scrolled": true
   },
   "outputs": [],
   "source": [
    "# Reshape 1-D vector to 2-D\n",
    "u = _map[0]\n",
    "uu = np.zeros((N,N))\n",
    "for i in range(N):\n",
    "    for j in range(N):\n",
    "        index = (i*N) + j;\n",
    "        uu[i,j] = u[index] "
   ]
  },
  {
   "cell_type": "code",
   "execution_count": 108,
   "metadata": {
    "collapsed": false
   },
   "outputs": [
    {
     "name": "stdout",
     "output_type": "stream",
     "text": [
      "[  2.36799170e-24   2.53054840e-11   2.53054840e-11   2.36799170e-24\n",
      "   2.84775700e-18   3.04324830e-05   3.04324830e-05   2.84775700e-18\n",
      "   3.60644660e-32   3.85402000e-19   3.85402000e-19   3.60644660e-32\n",
      "   3.79781100e-52   4.05852100e-39   4.05852100e-39   3.79781100e-52]\n",
      "[[  2.36799170e-24   2.53054840e-11   2.53054840e-11   2.36799170e-24]\n",
      " [  2.84775700e-18   3.04324830e-05   3.04324830e-05   2.84775700e-18]\n",
      " [  3.60644660e-32   3.85402000e-19   3.85402000e-19   3.60644660e-32]\n",
      " [  3.79781100e-52   4.05852100e-39   4.05852100e-39   3.79781100e-52]]\n"
     ]
    }
   ],
   "source": [
    "fig = plt.figure(figsize=plt.figaspect(0.5))\n",
    "ax = fig.add_subplot(111, projection='3d')\n",
    "#ax.plot_surface(xx,  yy,  uu, cstride=1,rstride=1,cmap='jet')\n",
    "ax.plot_surface(xxx, yyy, uuu, cstride=1,rstride=1,cmap='jet')"
   ]
  },
  {
   "cell_type": "code",
   "execution_count": null,
   "metadata": {
    "collapsed": true
   },
   "outputs": [],
   "source": []
  },
  {
   "cell_type": "code",
   "execution_count": null,
   "metadata": {
    "collapsed": false
   },
   "outputs": [],
   "source": []
  },
  {
   "cell_type": "code",
   "execution_count": null,
   "metadata": {
    "collapsed": false
   },
   "outputs": [],
   "source": []
  },
  {
   "cell_type": "code",
   "execution_count": null,
   "metadata": {
    "collapsed": true
   },
   "outputs": [],
   "source": []
  }
 ],
 "metadata": {
  "kernelspec": {
   "display_name": "Python 3",
   "language": "python",
   "name": "python3"
  },
  "language_info": {
   "codemirror_mode": {
    "name": "ipython",
    "version": 3
   },
   "file_extension": ".py",
   "mimetype": "text/x-python",
   "name": "python",
   "nbconvert_exporter": "python",
   "pygments_lexer": "ipython3",
   "version": "3.5.1"
  }
 },
 "nbformat": 4,
 "nbformat_minor": 1
}
