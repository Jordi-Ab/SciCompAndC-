{
 "cells": [
  {
   "cell_type": "code",
   "execution_count": 1,
   "metadata": {
    "collapsed": true
   },
   "outputs": [],
   "source": [
    "import numpy as np\n",
    "import numpy.linalg as la\n",
    "import matplotlib.pyplot as pt\n",
    "% matplotlib inline"
   ]
  },
  {
   "cell_type": "code",
   "execution_count": 8,
   "metadata": {
    "collapsed": false
   },
   "outputs": [],
   "source": [
    "def ChebyshevGrid1D(n):\n",
    "    assert(n>0)\n",
    "    nodes = []\n",
    "    for j in range(0,n+1):\n",
    "        nodes.append(np.cos(j*np.pi/n));\n",
    "    return np.array(nodes)"
   ]
  },
  {
   "cell_type": "code",
   "execution_count": 9,
   "metadata": {
    "collapsed": false
   },
   "outputs": [],
   "source": [
    "def FirstOrderDifferentiationMatrix(n):\n",
    "    M = np.zeros((n+1, n+1));\n",
    "    for i in range(0, n+1):\n",
    "        xi = np.cos(i*np.pi/n)\n",
    "        for j in range(0, n+1):\n",
    "            xj = np.cos(j*np.pi/n)\n",
    "            if (i==0 and j==0):\n",
    "                entry = (2*(n**2) + 1)/6.0;\n",
    "            elif (i==n and j==n):\n",
    "                entry = -(2*(n**2) + 1)/6.0;\n",
    "            elif (i==j):\n",
    "                entry = -xj / (2*( 1-(xj**2) ));\n",
    "            else:\n",
    "                ci = (2.0 if(i==0 or i==n) else 1.0);\n",
    "                cj = (2.0 if(j==0 or j==n) else 1.0);\n",
    "                entry = (ci/cj) * ( ( (-1)**(i+j) )/(xi - xj) );\n",
    "            M[i, j] = entry;\n",
    "    return M"
   ]
  },
  {
   "cell_type": "code",
   "execution_count": 10,
   "metadata": {
    "collapsed": false
   },
   "outputs": [],
   "source": [
    "def SecondOrderDifferentiationMatrix(n):\n",
    "    M = np.zeros((n+1, n+1));\n",
    "    for i in range(0, n+1):\n",
    "        xi = np.cos(i*np.pi/n)\n",
    "        for j in range(0, n+1):\n",
    "            xj = np.cos(j*np.pi/n)\n",
    "            # First fill-in values at the boundaries\n",
    "            if ( (i==0 and j==0) or (i==n and j==n) ):\n",
    "                entry = ((n**4) - 1)/15.0\n",
    "            # Then fill-in values at the first row\n",
    "            elif (i==0):\n",
    "                cj = (2.0 if(j==0 or j==n) else 1.0);\n",
    "                c = ( (-1)**(j) ) / cj \n",
    "                num = ( 2*(n**2) + 1 )*(1-xj) - 6\n",
    "                den = (1 - xj)**2\n",
    "                entry = (2/3.0)*c*(num / den)\n",
    "            # Then fill-in values at the last row\n",
    "            elif (i == n):\n",
    "                cj = (2.0 if(j==0 or j==n) else 1.0);\n",
    "                c = ( (-1)**(j+n) ) / cj \n",
    "                num = ( 2*(n**2) + 1 )*(1+xj) - 6\n",
    "                den = (1 + xj)**2\n",
    "                entry = (2/3.0)*c*(num / den)\n",
    "            # Then fill-in values at the diagonal\n",
    "            elif (i==j):\n",
    "                num = ((n**2)-1)*(1-(xi**2)) + 3\n",
    "                den = 3*( (1-(xi**2))**2 )\n",
    "                entry = - num/den;\n",
    "            # At last, fill-in the rest of the values.\n",
    "            else:\n",
    "                cj = (2.0 if(j==0 or j==n) else 1.0);\n",
    "                c = ( (-1)**(i+j) ) / cj \n",
    "                num = (xi**2) + (xi*xj) - 2\n",
    "                den = ( 1-(xi**2) )*( (xi-xj)**2 )\n",
    "                entry = c*(num / den)\n",
    "            M[i, j] = entry;\n",
    "    return M"
   ]
  },
  {
   "cell_type": "code",
   "execution_count": 11,
   "metadata": {
    "collapsed": false
   },
   "outputs": [
    {
     "name": "stdout",
     "output_type": "stream",
     "text": [
      "[ 1.   0.5 -0.5 -1. ]\n",
      "[[ 3.16666667 -4.          1.33333333 -0.5       ]\n",
      " [ 1.         -0.33333333 -1.          0.33333333]\n",
      " [-0.33333333  1.          0.33333333 -1.        ]\n",
      " [ 0.5        -1.33333333  4.         -3.16666667]]\n",
      "[[ 5.33333333 -9.33333333  6.66666667 -2.66666667]\n",
      " [ 3.33333333 -5.33333333  2.66666667 -0.66666667]\n",
      " [-0.66666667  2.66666667 -5.33333333  3.33333333]\n",
      " [-2.66666667  6.66666667 -9.33333333  5.33333333]]\n"
     ]
    }
   ],
   "source": [
    "mesh = ChebyshevGrid1D(3)\n",
    "D1 = FirstOrderDifferentiationMatrix(3)\n",
    "D2 = SecondOrderDifferentiationMatrix(3)\n",
    "print(mesh)\n",
    "print(D1)\n",
    "print(D2)"
   ]
  },
  {
   "cell_type": "code",
   "execution_count": 105,
   "metadata": {
    "collapsed": true
   },
   "outputs": [],
   "source": [
    "def f1(x):\n",
    "    return np.exp(x)\n",
    "\n",
    "def f2(x):\n",
    "\treturn np.exp(x)*np.sin(5*x);"
   ]
  },
  {
   "cell_type": "code",
   "execution_count": 106,
   "metadata": {
    "collapsed": true
   },
   "outputs": [],
   "source": [
    "def df1(x):\n",
    "    return np.exp(x)\n",
    "\n",
    "def df2(x):\n",
    "\treturn 2*np.exp(x)*( 5*np.cos(5*x) - 12*np.sin(5*x) );"
   ]
  },
  {
   "cell_type": "code",
   "execution_count": 107,
   "metadata": {
    "collapsed": false
   },
   "outputs": [],
   "source": [
    "f = f1\n",
    "true_sol = df1"
   ]
  },
  {
   "cell_type": "code",
   "execution_count": 108,
   "metadata": {
    "collapsed": true
   },
   "outputs": [],
   "source": [
    "n = 40"
   ]
  },
  {
   "cell_type": "code",
   "execution_count": 109,
   "metadata": {
    "collapsed": false
   },
   "outputs": [],
   "source": [
    "mesh = ChebyshevGrid1D(n)"
   ]
  },
  {
   "cell_type": "code",
   "execution_count": 110,
   "metadata": {
    "collapsed": false
   },
   "outputs": [],
   "source": [
    "diff_mat = SecondOrderDifferentiationMatrix(n)"
   ]
  },
  {
   "cell_type": "code",
   "execution_count": 111,
   "metadata": {
    "collapsed": false
   },
   "outputs": [],
   "source": [
    "us = f(mesh)"
   ]
  },
  {
   "cell_type": "code",
   "execution_count": 112,
   "metadata": {
    "collapsed": true
   },
   "outputs": [],
   "source": [
    "u_approx = diff_mat.dot(us)"
   ]
  },
  {
   "cell_type": "code",
   "execution_count": 113,
   "metadata": {
    "collapsed": false
   },
   "outputs": [
    {
     "data": {
      "text/plain": [
       "2.1846706665940019e-09"
      ]
     },
     "execution_count": 113,
     "metadata": {},
     "output_type": "execute_result"
    }
   ],
   "source": [
    "la.norm(true_sol(mesh)-u_approx, np.inf)"
   ]
  },
  {
   "cell_type": "code",
   "execution_count": null,
   "metadata": {
    "collapsed": false
   },
   "outputs": [],
   "source": []
  },
  {
   "cell_type": "code",
   "execution_count": null,
   "metadata": {
    "collapsed": false
   },
   "outputs": [],
   "source": []
  },
  {
   "cell_type": "code",
   "execution_count": null,
   "metadata": {
    "collapsed": true
   },
   "outputs": [],
   "source": []
  },
  {
   "cell_type": "code",
   "execution_count": null,
   "metadata": {
    "collapsed": true
   },
   "outputs": [],
   "source": []
  }
 ],
 "metadata": {
  "kernelspec": {
   "display_name": "Python 3",
   "language": "python",
   "name": "python3"
  },
  "language_info": {
   "codemirror_mode": {
    "name": "ipython",
    "version": 3
   },
   "file_extension": ".py",
   "mimetype": "text/x-python",
   "name": "python",
   "nbconvert_exporter": "python",
   "pygments_lexer": "ipython3",
   "version": "3.5.1"
  }
 },
 "nbformat": 4,
 "nbformat_minor": 1
}
