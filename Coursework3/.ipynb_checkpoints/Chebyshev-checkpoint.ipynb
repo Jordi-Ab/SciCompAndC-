{
 "cells": [
  {
   "cell_type": "code",
   "execution_count": 1,
   "metadata": {
    "collapsed": true
   },
   "outputs": [],
   "source": [
    "import numpy as np\n",
    "import numpy.linalg as la\n",
    "import matplotlib.pyplot as pt\n",
    "% matplotlib inline"
   ]
  },
  {
   "cell_type": "code",
   "execution_count": 13,
   "metadata": {
    "collapsed": false
   },
   "outputs": [],
   "source": [
    "def FirstOrderDifferentiationMatrix(n):\n",
    "    M = np.zeros((n+1, n+1));\n",
    "    for i in range(0, n+1):\n",
    "        xi = np.cos(i*np.pi/n)\n",
    "        for j in range(0, n+1):\n",
    "            xj = np.cos(j*np.pi/n)\n",
    "            if (i==0 and j==0):\n",
    "                entry = (2*(n**2) + 1)/6.0;\n",
    "            elif (i==n and j==n):\n",
    "                entry = -(2*(n**2) + 1)/6.0;\n",
    "            elif (i==j):\n",
    "                entry = -xj / (2*( 1-(xj**2) ));\n",
    "            else:\n",
    "                ci = (2.0 if(i==0 or i==n) else 1.0);\n",
    "                cj = (2.0 if(j==0 or j==n) else 1.0);\n",
    "                entry = (ci/cj) * ( ( (-1)**(i+j) )/(xi - xj) );\n",
    "            M[i, j] = entry;\n",
    "    return M"
   ]
  },
  {
   "cell_type": "code",
   "execution_count": 14,
   "metadata": {
    "collapsed": false
   },
   "outputs": [
    {
     "data": {
      "text/plain": [
       "array([[ 3.16666667, -4.        ,  1.33333333, -0.5       ],\n",
       "       [ 1.        , -0.33333333, -1.        ,  0.33333333],\n",
       "       [-0.33333333,  1.        ,  0.33333333, -1.        ],\n",
       "       [ 0.5       , -1.33333333,  4.        , -3.16666667]])"
      ]
     },
     "execution_count": 14,
     "metadata": {},
     "output_type": "execute_result"
    }
   ],
   "source": [
    "FirstOrderDifferentiationMatrix(3)"
   ]
  },
  {
   "cell_type": "code",
   "execution_count": null,
   "metadata": {
    "collapsed": false
   },
   "outputs": [],
   "source": [
    "def SecondOrderDifferentiationMatrix(n):\n",
    "    M = np.zeros((n+1, n+1));\n",
    "    for i in range(0, n+1):\n",
    "        xi = np.cos(i*np.pi/n)\n",
    "        for j in range(0, n+1):\n",
    "            xj = np.cos(j*np.pi/n)\n",
    "            # First fill-in values at the boundaries\n",
    "            if ( (i==0 and j==0) or (i==n and j==n) ):\n",
    "                entry = ((n**4) - 1)/15.0;\n",
    "            # Then fill-in values at the first row\n",
    "            elif (i==0):\n",
    "                entry\n",
    "            # Then fill-in values at the last row\n",
    "            elif (i == n):\n",
    "                entry\n",
    "            # Then fill-in values at the diagonal\n",
    "            elif (i==j):\n",
    "                num = ((n**2)-1)*(1-(xi**2)) + 3\n",
    "                den = 3*( (1-(xi**2))**2 )\n",
    "                entry = - num/den;\n",
    "            # At last, fill-in the rest of the values.\n",
    "            else:\n",
    "                ci = (2.0 if(i==0 or i==n) else 1.0);\n",
    "                cj = (2.0 if(j==0 or j==n) else 1.0);\n",
    "                entry = (ci/cj) * ( ( (-1)**(i+j) )/(xi - xj) );\n",
    "            M[i, j] = entry;\n",
    "    return M"
   ]
  },
  {
   "cell_type": "code",
   "execution_count": null,
   "metadata": {
    "collapsed": true
   },
   "outputs": [],
   "source": []
  }
 ],
 "metadata": {
  "kernelspec": {
   "display_name": "Python 3",
   "language": "python",
   "name": "python3"
  },
  "language_info": {
   "codemirror_mode": {
    "name": "ipython",
    "version": 3
   },
   "file_extension": ".py",
   "mimetype": "text/x-python",
   "name": "python",
   "nbconvert_exporter": "python",
   "pygments_lexer": "ipython3",
   "version": "3.5.1"
  }
 },
 "nbformat": 4,
 "nbformat_minor": 1
}
