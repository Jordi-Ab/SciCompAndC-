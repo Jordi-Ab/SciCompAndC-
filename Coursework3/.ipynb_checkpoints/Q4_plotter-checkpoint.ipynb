{
 "cells": [
  {
   "cell_type": "code",
   "execution_count": 1,
   "metadata": {
    "collapsed": true
   },
   "outputs": [],
   "source": [
    "import numpy as np\n",
    "import numpy.linalg as la\n",
    "import matplotlib.pyplot as plt\n",
    "from mpl_toolkits.mplot3d import axes3d, Axes3D\n",
    "% matplotlib inline"
   ]
  },
  {
   "cell_type": "code",
   "execution_count": 3,
   "metadata": {
    "collapsed": false
   },
   "outputs": [],
   "source": [
    "plt.rc('text', usetex=True)\n",
    "plt.rc('font', family='serif')"
   ]
  },
  {
   "cell_type": "code",
   "execution_count": 7,
   "metadata": {
    "collapsed": false
   },
   "outputs": [],
   "source": [
    "x_grid = np.loadtxt('OutputData/Q4_xgrid.dat')\n",
    "y_grid = np.loadtxt('OutputData/Q4_ygrid.dat')\n",
    "array = np.loadtxt('OutputData/StormVerlet_Q4_output.dat')"
   ]
  },
  {
   "cell_type": "code",
   "execution_count": 8,
   "metadata": {
    "collapsed": true
   },
   "outputs": [],
   "source": [
    "ts = array[:, 0]\n",
    "us = array[:,1:]"
   ]
  },
  {
   "cell_type": "code",
   "execution_count": null,
   "metadata": {
    "collapsed": true
   },
   "outputs": [],
   "source": [
    "for \n",
    "# Reshape long 1D results onto 2D grid:\n",
    "uu = np.zeros((Nx+1,Ny+1));\n",
    "\n",
    "# Apply boundary conditions.\n",
    "uu[1:-1,1:-1] = us[t].reshape((Nx-1,Ny-1)).T\n",
    "\n",
    "# Compute the meshgrid for plotting\n",
    "xx,yy = np.meshgrid(x,y)\n",
    "\n",
    "# Create the plot object.\n",
    "fig = plt.figure(figsize=plt.figaspect(0.5))\n",
    "ax = fig.add_subplot(111, projection='3d')\n",
    "ax.plot_surface(xx,  yy,  uu, cstride=1,rstride=1,color='w')\n",
    "ax.azim = -138; ax.elev = 25\n",
    "ax.set_xlabel('x'); ax.set_ylabel('y'); ax.set_zlabel('u')\n",
    "plt.title('t = '+str('%.5f' % t)); ax.azim = -138; ax.elev = 38; ax.set_zlim3d(-0.2,1)\n",
    "plt.show()"
   ]
  }
 ],
 "metadata": {
  "kernelspec": {
   "display_name": "Python 3",
   "language": "python",
   "name": "python3"
  },
  "language_info": {
   "codemirror_mode": {
    "name": "ipython",
    "version": 3
   },
   "file_extension": ".py",
   "mimetype": "text/x-python",
   "name": "python",
   "nbconvert_exporter": "python",
   "pygments_lexer": "ipython3",
   "version": "3.5.1"
  }
 },
 "nbformat": 4,
 "nbformat_minor": 1
}
